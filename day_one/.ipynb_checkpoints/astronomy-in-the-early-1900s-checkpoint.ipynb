{
 "cells": [
  {
   "cell_type": "markdown",
   "id": "90fd6e1474036c87",
   "metadata": {
    "editable": true,
    "slideshow": {
     "slide_type": ""
    },
    "tags": []
   },
   "source": [
    "# Astronomy in the Early 1900s\n",
    "\n",
    "Imagine that you are an astronomer living in the early 1900s. You and your\n",
    "colleagues around the world, including Albert Einstein, would agree that the\n",
    "universe is unchanging and everlasting. In other words, you expect that the\n",
    "universe always has been and will be the way it is the way you see it now. This\n",
    "picture of an unchanging universe had rarely been questioned throughout human\n",
    "history, thanks in large part to Aristotle, who embraced perfection and\n",
    "permanence."
   ]
  },
  {
   "cell_type": "markdown",
   "id": "7c3b7a972e7c2138",
   "metadata": {
    "editable": true,
    "slideshow": {
     "slide_type": ""
    },
    "tags": []
   },
   "source": [
    "## Explore the Cosmic Sky\n",
    "\n",
    "The frame below provides an interactive view of the night sky, using images from real observations.\n",
    "\n",
    "The brighter band you see going diagonally across the frame (before you try the controls) is caused by stars and dust in our home galaxy, called the Milky Way.\n",
    "\n",
    "You can explore this view and see what is in the night sky, as astronomers have been doing for centuries. Pan (click and drag) and zoom (scroll in and out) to see parts of the sky beyond this view."
   ]
  },
  {
   "cell_type": "code",
   "execution_count": 1,
   "id": "5d969a05cbcb8ac0",
   "metadata": {
    "ExecuteTime": {
     "end_time": "2024-07-22T00:21:54.757402Z",
     "start_time": "2024-07-22T00:21:54.746235Z"
    },
    "editable": true,
    "slideshow": {
     "slide_type": ""
    },
    "tags": [
     "remove-input"
    ]
   },
   "outputs": [
    {
     "data": {
      "text/html": [
       "<iframe\n",
       "  id=\"wwtResearch\"\n",
       "  width=\"100%\"\n",
       "  height=\"400px\"\n",
       "  src=\"https://web.wwtassets.org/research/latest/\"\n",
       "  allow=\"accelerometer; clipboard-write; gyroscope\"\n",
       "  allowfullscreen\n",
       "  frameborder=\"0\"\n",
       ">\n",
       "  <p>ERROR: cannot display WorldWide Telescope research app!</p>\n",
       "</iframe>\n"
      ],
      "text/plain": [
       "<IPython.core.display.HTML object>"
      ]
     },
     "metadata": {},
     "output_type": "display_data"
    }
   ],
   "source": [
    "%%html\n",
    "<iframe\n",
    "  id=\"wwtResearch\"\n",
    "  width=\"100%\"\n",
    "  height=\"400px\"\n",
    "  src=\"https://web.wwtassets.org/research/latest/\"\n",
    "  allow=\"accelerometer; clipboard-write; gyroscope\"\n",
    "  allowfullscreen\n",
    "  frameborder=\"0\"\n",
    ">\n",
    "  <p>ERROR: cannot display WorldWide Telescope research app!</p>\n",
    "</iframe>"
   ]
  },
  {
   "cell_type": "markdown",
   "id": "6116ec698b01bc79",
   "metadata": {
    "editable": true,
    "slideshow": {
     "slide_type": ""
    },
    "tags": []
   },
   "source": [
    "## What are the fuzzy things?\n",
    "\n",
    "As you explore the cosmic sky, you may see stars and fuzzy blobs called nebulae. In the 1700's, French astronomer Charles Messier cataloged as many nebulae as he could find. They are known as Messier Objects and are identified by their catalog number. For example, M13 represents the 13th Messier Object in the catalog.\n",
    "\n",
    "Click on the buttons to the right to view some Messier Objects. (Fun fact: “nebula” means “cloud” or “fog” in Latin.)\n",
    "\n"
   ]
  }
 ],
 "metadata": {
  "kernelspec": {
   "display_name": "Python 3 (ipykernel)",
   "language": "python",
   "name": "python3"
  },
  "language_info": {
   "codemirror_mode": {
    "name": "ipython",
    "version": 3
   },
   "file_extension": ".py",
   "mimetype": "text/x-python",
   "name": "python",
   "nbconvert_exporter": "python",
   "pygments_lexer": "ipython3",
   "version": "3.12.4"
  }
 },
 "nbformat": 4,
 "nbformat_minor": 5
}
