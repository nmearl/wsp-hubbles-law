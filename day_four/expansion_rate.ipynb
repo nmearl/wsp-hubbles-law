{
 "cells": [
  {
   "metadata": {},
   "cell_type": "markdown",
   "source": [
    "# Calculating the Expansion Rate of the Universe\n",
    "\n",
    "Now that you have determined the radial velocities and distances for your set of galaxies, the next step is to calculate the expansion rate of the universe, also known as the Hubble constant (H₀). This will involve plotting the radial velocities of your galaxies against their distances and determining the best-fit line through the data points. The slope of this line will give you an estimate of $H_\\circ$.\n",
    "\n",
    "\n",
    "## Finding the Slope\n",
    "\n",
    "Let's retrieve our measurement data stored in the Google Sheet. We will then plot the **velocity** vs. **distance** data and fit the slope by eye. This will give us an estimated value for the expansion rate. You will then run some code on your own data to determine the real slope. Remember to record your results in the [Google Sheet](https://docs.google.com/spreadsheets/d/1mVRovTF8C1UJkQakQG_E9emnpJIRb1rdNx6UPNcm3rs/edit?usp=sharing)."
   ],
   "id": "1429e2cf2903591e"
  },
  {
   "metadata": {
    "ExecuteTime": {
     "end_time": "2024-07-25T15:36:49.123840Z",
     "start_time": "2024-07-25T15:36:48.894957Z"
    }
   },
   "cell_type": "code",
   "source": [
    "from astropy.utils.data import download_file\n",
    "\n",
    "galaxy_data = download_file(\"https://docs.google.com/spreadsheets/d/1mVRovTF8C1UJkQakQG_E9emnpJIRb1rdNx6UPNcm3rs/export?format=csv&gid=0\")"
   ],
   "id": "e33c7535ba1362a0",
   "outputs": [],
   "execution_count": 9
  },
  {
   "metadata": {
    "ExecuteTime": {
     "end_time": "2024-07-25T15:36:49.129776Z",
     "start_time": "2024-07-25T15:36:49.124715Z"
    }
   },
   "cell_type": "code",
   "source": [
    "import pandas as pd\n",
    "from bokeh.io import show, output_notebook\n",
    "from bokeh.plotting import figure\n",
    "from bokeh.models import ColumnDataSource, Select, CustomJS, PolyDrawTool, PolyAnnotation, Label\n",
    "from bokeh.layouts import column\n",
    "from bokeh.transform import linear_cmap\n",
    "from bokeh.palettes import Viridis256\n",
    "import numpy as np\n",
    "from astropy.table import Table\n",
    "\n",
    "output_notebook()"
   ],
   "id": "a3c6c07dd95a827d",
   "outputs": [
    {
     "data": {
      "text/html": [
       "    <style>\n",
       "        .bk-notebook-logo {\n",
       "            display: block;\n",
       "            width: 20px;\n",
       "            height: 20px;\n",
       "            background-image: url(data:image/png;base64,iVBORw0KGgoAAAANSUhEUgAAABQAAAAUCAYAAACNiR0NAAAABHNCSVQICAgIfAhkiAAAAAlwSFlzAAALEgAACxIB0t1+/AAAABx0RVh0U29mdHdhcmUAQWRvYmUgRmlyZXdvcmtzIENTNui8sowAAAOkSURBVDiNjZRtaJVlGMd/1/08zzln5zjP1LWcU9N0NkN8m2CYjpgQYQXqSs0I84OLIC0hkEKoPtiH3gmKoiJDU7QpLgoLjLIQCpEsNJ1vqUOdO7ppbuec5+V+rj4ctwzd8IIbbi6u+8f1539dt3A78eXC7QizUF7gyV1fD1Yqg4JWz84yffhm0qkFqBogB9rM8tZdtwVsPUhWhGcFJngGeWrPzHm5oaMmkfEg1usvLFyc8jLRqDOMru7AyC8saQr7GG7f5fvDeH7Ej8CM66nIF+8yngt6HWaKh7k49Soy9nXurCi1o3qUbS3zWfrYeQDTB/Qj6kX6Ybhw4B+bOYoLKCC9H3Nu/leUTZ1JdRWkkn2ldcCamzrcf47KKXdAJllSlxAOkRgyHsGC/zRday5Qld9DyoM4/q/rUoy/CXh3jzOu3bHUVZeU+DEn8FInkPBFlu3+nW3Nw0mk6vCDiWg8CeJaxEwuHS3+z5RgY+YBR6V1Z1nxSOfoaPa4LASWxxdNp+VWTk7+4vzaou8v8PN+xo+KY2xsw6une2frhw05CTYOmQvsEhjhWjn0bmXPjpE1+kplmmkP3suftwTubK9Vq22qKmrBhpY4jvd5afdRA3wGjFAgcnTK2s4hY0/GPNIb0nErGMCRxWOOX64Z8RAC4oCXdklmEvcL8o0BfkNK4lUg9HTl+oPlQxdNo3Mg4Nv175e/1LDGzZen30MEjRUtmXSfiTVu1kK8W4txyV6BMKlbgk3lMwYCiusNy9fVfvvwMxv8Ynl6vxoByANLTWplvuj/nF9m2+PDtt1eiHPBr1oIfhCChQMBw6Aw0UulqTKZdfVvfG7VcfIqLG9bcldL/+pdWTLxLUy8Qq38heUIjh4XlzZxzQm19lLFlr8vdQ97rjZVOLf8nclzckbcD4wxXMidpX30sFd37Fv/GtwwhzhxGVAprjbg0gCAEeIgwCZyTV2Z1REEW8O4py0wsjeloKoMr6iCY6dP92H6Vw/oTyICIthibxjm/DfN9lVz8IqtqKYLUXfoKVMVQVVJOElGjrnnUt9T9wbgp8AyYKaGlqingHZU/uG2NTZSVqwHQTWkx9hxjkpWDaCg6Ckj5qebgBVbT3V3NNXMSiWSDdGV3hrtzla7J+duwPOToIg42ChPQOQjspnSlp1V+Gjdged7+8UN5CRAV7a5EdFNwCjEaBR27b3W890TE7g24NAP/mMDXRWrGoFPQI9ls/MWO2dWFAar/xcOIImbbpA3zgAAAABJRU5ErkJggg==);\n",
       "        }\n",
       "    </style>\n",
       "    <div>\n",
       "        <a href=\"https://bokeh.org\" target=\"_blank\" class=\"bk-notebook-logo\"></a>\n",
       "        <span id=\"e0c13143-b0dc-4ddf-a6c4-d59151bf7603\">Loading BokehJS ...</span>\n",
       "    </div>\n"
      ]
     },
     "metadata": {},
     "output_type": "display_data"
    },
    {
     "data": {
      "application/javascript": "'use strict';\n(function(root) {\n  function now() {\n    return new Date();\n  }\n\n  const force = true;\n\n  if (typeof root._bokeh_onload_callbacks === \"undefined\" || force === true) {\n    root._bokeh_onload_callbacks = [];\n    root._bokeh_is_loading = undefined;\n  }\n\nconst JS_MIME_TYPE = 'application/javascript';\n  const HTML_MIME_TYPE = 'text/html';\n  const EXEC_MIME_TYPE = 'application/vnd.bokehjs_exec.v0+json';\n  const CLASS_NAME = 'output_bokeh rendered_html';\n\n  /**\n   * Render data to the DOM node\n   */\n  function render(props, node) {\n    const script = document.createElement(\"script\");\n    node.appendChild(script);\n  }\n\n  /**\n   * Handle when an output is cleared or removed\n   */\n  function handleClearOutput(event, handle) {\n    function drop(id) {\n      const view = Bokeh.index.get_by_id(id)\n      if (view != null) {\n        view.model.document.clear()\n        Bokeh.index.delete(view)\n      }\n    }\n\n    const cell = handle.cell;\n\n    const id = cell.output_area._bokeh_element_id;\n    const server_id = cell.output_area._bokeh_server_id;\n\n    // Clean up Bokeh references\n    if (id != null) {\n      drop(id)\n    }\n\n    if (server_id !== undefined) {\n      // Clean up Bokeh references\n      const cmd_clean = \"from bokeh.io.state import curstate; print(curstate().uuid_to_server['\" + server_id + \"'].get_sessions()[0].document.roots[0]._id)\";\n      cell.notebook.kernel.execute(cmd_clean, {\n        iopub: {\n          output: function(msg) {\n            const id = msg.content.text.trim()\n            drop(id)\n          }\n        }\n      });\n      // Destroy server and session\n      const cmd_destroy = \"import bokeh.io.notebook as ion; ion.destroy_server('\" + server_id + \"')\";\n      cell.notebook.kernel.execute(cmd_destroy);\n    }\n  }\n\n  /**\n   * Handle when a new output is added\n   */\n  function handleAddOutput(event, handle) {\n    const output_area = handle.output_area;\n    const output = handle.output;\n\n    // limit handleAddOutput to display_data with EXEC_MIME_TYPE content only\n    if ((output.output_type != \"display_data\") || (!Object.prototype.hasOwnProperty.call(output.data, EXEC_MIME_TYPE))) {\n      return\n    }\n\n    const toinsert = output_area.element.find(\".\" + CLASS_NAME.split(' ')[0]);\n\n    if (output.metadata[EXEC_MIME_TYPE][\"id\"] !== undefined) {\n      toinsert[toinsert.length - 1].firstChild.textContent = output.data[JS_MIME_TYPE];\n      // store reference to embed id on output_area\n      output_area._bokeh_element_id = output.metadata[EXEC_MIME_TYPE][\"id\"];\n    }\n    if (output.metadata[EXEC_MIME_TYPE][\"server_id\"] !== undefined) {\n      const bk_div = document.createElement(\"div\");\n      bk_div.innerHTML = output.data[HTML_MIME_TYPE];\n      const script_attrs = bk_div.children[0].attributes;\n      for (let i = 0; i < script_attrs.length; i++) {\n        toinsert[toinsert.length - 1].firstChild.setAttribute(script_attrs[i].name, script_attrs[i].value);\n        toinsert[toinsert.length - 1].firstChild.textContent = bk_div.children[0].textContent\n      }\n      // store reference to server id on output_area\n      output_area._bokeh_server_id = output.metadata[EXEC_MIME_TYPE][\"server_id\"];\n    }\n  }\n\n  function register_renderer(events, OutputArea) {\n\n    function append_mime(data, metadata, element) {\n      // create a DOM node to render to\n      const toinsert = this.create_output_subarea(\n        metadata,\n        CLASS_NAME,\n        EXEC_MIME_TYPE\n      );\n      this.keyboard_manager.register_events(toinsert);\n      // Render to node\n      const props = {data: data, metadata: metadata[EXEC_MIME_TYPE]};\n      render(props, toinsert[toinsert.length - 1]);\n      element.append(toinsert);\n      return toinsert\n    }\n\n    /* Handle when an output is cleared or removed */\n    events.on('clear_output.CodeCell', handleClearOutput);\n    events.on('delete.Cell', handleClearOutput);\n\n    /* Handle when a new output is added */\n    events.on('output_added.OutputArea', handleAddOutput);\n\n    /**\n     * Register the mime type and append_mime function with output_area\n     */\n    OutputArea.prototype.register_mime_type(EXEC_MIME_TYPE, append_mime, {\n      /* Is output safe? */\n      safe: true,\n      /* Index of renderer in `output_area.display_order` */\n      index: 0\n    });\n  }\n\n  // register the mime type if in Jupyter Notebook environment and previously unregistered\n  if (root.Jupyter !== undefined) {\n    const events = require('base/js/events');\n    const OutputArea = require('notebook/js/outputarea').OutputArea;\n\n    if (OutputArea.prototype.mime_types().indexOf(EXEC_MIME_TYPE) == -1) {\n      register_renderer(events, OutputArea);\n    }\n  }\n  if (typeof (root._bokeh_timeout) === \"undefined\" || force === true) {\n    root._bokeh_timeout = Date.now() + 5000;\n    root._bokeh_failed_load = false;\n  }\n\n  const NB_LOAD_WARNING = {'data': {'text/html':\n     \"<div style='background-color: #fdd'>\\n\"+\n     \"<p>\\n\"+\n     \"BokehJS does not appear to have successfully loaded. If loading BokehJS from CDN, this \\n\"+\n     \"may be due to a slow or bad network connection. Possible fixes:\\n\"+\n     \"</p>\\n\"+\n     \"<ul>\\n\"+\n     \"<li>re-rerun `output_notebook()` to attempt to load from CDN again, or</li>\\n\"+\n     \"<li>use INLINE resources instead, as so:</li>\\n\"+\n     \"</ul>\\n\"+\n     \"<code>\\n\"+\n     \"from bokeh.resources import INLINE\\n\"+\n     \"output_notebook(resources=INLINE)\\n\"+\n     \"</code>\\n\"+\n     \"</div>\"}};\n\n  function display_loaded(error = null) {\n    const el = document.getElementById(\"e0c13143-b0dc-4ddf-a6c4-d59151bf7603\");\n    if (el != null) {\n      const html = (() => {\n        if (typeof root.Bokeh === \"undefined\") {\n          if (error == null) {\n            return \"BokehJS is loading ...\";\n          } else {\n            return \"BokehJS failed to load.\";\n          }\n        } else {\n          const prefix = `BokehJS ${root.Bokeh.version}`;\n          if (error == null) {\n            return `${prefix} successfully loaded.`;\n          } else {\n            return `${prefix} <b>encountered errors</b> while loading and may not function as expected.`;\n          }\n        }\n      })();\n      el.innerHTML = html;\n\n      if (error != null) {\n        const wrapper = document.createElement(\"div\");\n        wrapper.style.overflow = \"auto\";\n        wrapper.style.height = \"5em\";\n        wrapper.style.resize = \"vertical\";\n        const content = document.createElement(\"div\");\n        content.style.fontFamily = \"monospace\";\n        content.style.whiteSpace = \"pre-wrap\";\n        content.style.backgroundColor = \"rgb(255, 221, 221)\";\n        content.textContent = error.stack ?? error.toString();\n        wrapper.append(content);\n        el.append(wrapper);\n      }\n    } else if (Date.now() < root._bokeh_timeout) {\n      setTimeout(() => display_loaded(error), 100);\n    }\n  }\n\n  function run_callbacks() {\n    try {\n      root._bokeh_onload_callbacks.forEach(function(callback) {\n        if (callback != null)\n          callback();\n      });\n    } finally {\n      delete root._bokeh_onload_callbacks\n    }\n    console.debug(\"Bokeh: all callbacks have finished\");\n  }\n\n  function load_libs(css_urls, js_urls, callback) {\n    if (css_urls == null) css_urls = [];\n    if (js_urls == null) js_urls = [];\n\n    root._bokeh_onload_callbacks.push(callback);\n    if (root._bokeh_is_loading > 0) {\n      console.debug(\"Bokeh: BokehJS is being loaded, scheduling callback at\", now());\n      return null;\n    }\n    if (js_urls == null || js_urls.length === 0) {\n      run_callbacks();\n      return null;\n    }\n    console.debug(\"Bokeh: BokehJS not loaded, scheduling load and callback at\", now());\n    root._bokeh_is_loading = css_urls.length + js_urls.length;\n\n    function on_load() {\n      root._bokeh_is_loading--;\n      if (root._bokeh_is_loading === 0) {\n        console.debug(\"Bokeh: all BokehJS libraries/stylesheets loaded\");\n        run_callbacks()\n      }\n    }\n\n    function on_error(url) {\n      console.error(\"failed to load \" + url);\n    }\n\n    for (let i = 0; i < css_urls.length; i++) {\n      const url = css_urls[i];\n      const element = document.createElement(\"link\");\n      element.onload = on_load;\n      element.onerror = on_error.bind(null, url);\n      element.rel = \"stylesheet\";\n      element.type = \"text/css\";\n      element.href = url;\n      console.debug(\"Bokeh: injecting link tag for BokehJS stylesheet: \", url);\n      document.body.appendChild(element);\n    }\n\n    for (let i = 0; i < js_urls.length; i++) {\n      const url = js_urls[i];\n      const element = document.createElement('script');\n      element.onload = on_load;\n      element.onerror = on_error.bind(null, url);\n      element.async = false;\n      element.src = url;\n      console.debug(\"Bokeh: injecting script tag for BokehJS library: \", url);\n      document.head.appendChild(element);\n    }\n  };\n\n  function inject_raw_css(css) {\n    const element = document.createElement(\"style\");\n    element.appendChild(document.createTextNode(css));\n    document.body.appendChild(element);\n  }\n\n  const js_urls = [\"https://cdn.bokeh.org/bokeh/release/bokeh-3.5.0.min.js\", \"https://cdn.bokeh.org/bokeh/release/bokeh-gl-3.5.0.min.js\", \"https://cdn.bokeh.org/bokeh/release/bokeh-widgets-3.5.0.min.js\", \"https://cdn.bokeh.org/bokeh/release/bokeh-tables-3.5.0.min.js\", \"https://cdn.bokeh.org/bokeh/release/bokeh-mathjax-3.5.0.min.js\"];\n  const css_urls = [];\n\n  const inline_js = [    function(Bokeh) {\n      Bokeh.set_log_level(\"info\");\n    },\nfunction(Bokeh) {\n    }\n  ];\n\n  function run_inline_js() {\n    if (root.Bokeh !== undefined || force === true) {\n      try {\n            for (let i = 0; i < inline_js.length; i++) {\n      inline_js[i].call(root, root.Bokeh);\n    }\n\n      } catch (error) {display_loaded(error);throw error;\n      }if (force === true) {\n        display_loaded();\n      }} else if (Date.now() < root._bokeh_timeout) {\n      setTimeout(run_inline_js, 100);\n    } else if (!root._bokeh_failed_load) {\n      console.log(\"Bokeh: BokehJS failed to load within specified timeout.\");\n      root._bokeh_failed_load = true;\n    } else if (force !== true) {\n      const cell = $(document.getElementById(\"e0c13143-b0dc-4ddf-a6c4-d59151bf7603\")).parents('.cell').data().cell;\n      cell.output_area.append_execute_result(NB_LOAD_WARNING)\n    }\n  }\n\n  if (root._bokeh_is_loading === 0) {\n    console.debug(\"Bokeh: BokehJS loaded, going straight to plotting\");\n    run_inline_js();\n  } else {\n    load_libs(css_urls, js_urls, function() {\n      console.debug(\"Bokeh: BokehJS plotting callback run at\", now());\n      run_inline_js();\n    });\n  }\n}(window));",
      "application/vnd.bokehjs_load.v0+json": "'use strict';\n(function(root) {\n  function now() {\n    return new Date();\n  }\n\n  const force = true;\n\n  if (typeof root._bokeh_onload_callbacks === \"undefined\" || force === true) {\n    root._bokeh_onload_callbacks = [];\n    root._bokeh_is_loading = undefined;\n  }\n\n\n  if (typeof (root._bokeh_timeout) === \"undefined\" || force === true) {\n    root._bokeh_timeout = Date.now() + 5000;\n    root._bokeh_failed_load = false;\n  }\n\n  const NB_LOAD_WARNING = {'data': {'text/html':\n     \"<div style='background-color: #fdd'>\\n\"+\n     \"<p>\\n\"+\n     \"BokehJS does not appear to have successfully loaded. If loading BokehJS from CDN, this \\n\"+\n     \"may be due to a slow or bad network connection. Possible fixes:\\n\"+\n     \"</p>\\n\"+\n     \"<ul>\\n\"+\n     \"<li>re-rerun `output_notebook()` to attempt to load from CDN again, or</li>\\n\"+\n     \"<li>use INLINE resources instead, as so:</li>\\n\"+\n     \"</ul>\\n\"+\n     \"<code>\\n\"+\n     \"from bokeh.resources import INLINE\\n\"+\n     \"output_notebook(resources=INLINE)\\n\"+\n     \"</code>\\n\"+\n     \"</div>\"}};\n\n  function display_loaded(error = null) {\n    const el = document.getElementById(\"e0c13143-b0dc-4ddf-a6c4-d59151bf7603\");\n    if (el != null) {\n      const html = (() => {\n        if (typeof root.Bokeh === \"undefined\") {\n          if (error == null) {\n            return \"BokehJS is loading ...\";\n          } else {\n            return \"BokehJS failed to load.\";\n          }\n        } else {\n          const prefix = `BokehJS ${root.Bokeh.version}`;\n          if (error == null) {\n            return `${prefix} successfully loaded.`;\n          } else {\n            return `${prefix} <b>encountered errors</b> while loading and may not function as expected.`;\n          }\n        }\n      })();\n      el.innerHTML = html;\n\n      if (error != null) {\n        const wrapper = document.createElement(\"div\");\n        wrapper.style.overflow = \"auto\";\n        wrapper.style.height = \"5em\";\n        wrapper.style.resize = \"vertical\";\n        const content = document.createElement(\"div\");\n        content.style.fontFamily = \"monospace\";\n        content.style.whiteSpace = \"pre-wrap\";\n        content.style.backgroundColor = \"rgb(255, 221, 221)\";\n        content.textContent = error.stack ?? error.toString();\n        wrapper.append(content);\n        el.append(wrapper);\n      }\n    } else if (Date.now() < root._bokeh_timeout) {\n      setTimeout(() => display_loaded(error), 100);\n    }\n  }\n\n  function run_callbacks() {\n    try {\n      root._bokeh_onload_callbacks.forEach(function(callback) {\n        if (callback != null)\n          callback();\n      });\n    } finally {\n      delete root._bokeh_onload_callbacks\n    }\n    console.debug(\"Bokeh: all callbacks have finished\");\n  }\n\n  function load_libs(css_urls, js_urls, callback) {\n    if (css_urls == null) css_urls = [];\n    if (js_urls == null) js_urls = [];\n\n    root._bokeh_onload_callbacks.push(callback);\n    if (root._bokeh_is_loading > 0) {\n      console.debug(\"Bokeh: BokehJS is being loaded, scheduling callback at\", now());\n      return null;\n    }\n    if (js_urls == null || js_urls.length === 0) {\n      run_callbacks();\n      return null;\n    }\n    console.debug(\"Bokeh: BokehJS not loaded, scheduling load and callback at\", now());\n    root._bokeh_is_loading = css_urls.length + js_urls.length;\n\n    function on_load() {\n      root._bokeh_is_loading--;\n      if (root._bokeh_is_loading === 0) {\n        console.debug(\"Bokeh: all BokehJS libraries/stylesheets loaded\");\n        run_callbacks()\n      }\n    }\n\n    function on_error(url) {\n      console.error(\"failed to load \" + url);\n    }\n\n    for (let i = 0; i < css_urls.length; i++) {\n      const url = css_urls[i];\n      const element = document.createElement(\"link\");\n      element.onload = on_load;\n      element.onerror = on_error.bind(null, url);\n      element.rel = \"stylesheet\";\n      element.type = \"text/css\";\n      element.href = url;\n      console.debug(\"Bokeh: injecting link tag for BokehJS stylesheet: \", url);\n      document.body.appendChild(element);\n    }\n\n    for (let i = 0; i < js_urls.length; i++) {\n      const url = js_urls[i];\n      const element = document.createElement('script');\n      element.onload = on_load;\n      element.onerror = on_error.bind(null, url);\n      element.async = false;\n      element.src = url;\n      console.debug(\"Bokeh: injecting script tag for BokehJS library: \", url);\n      document.head.appendChild(element);\n    }\n  };\n\n  function inject_raw_css(css) {\n    const element = document.createElement(\"style\");\n    element.appendChild(document.createTextNode(css));\n    document.body.appendChild(element);\n  }\n\n  const js_urls = [\"https://cdn.bokeh.org/bokeh/release/bokeh-3.5.0.min.js\", \"https://cdn.bokeh.org/bokeh/release/bokeh-gl-3.5.0.min.js\", \"https://cdn.bokeh.org/bokeh/release/bokeh-widgets-3.5.0.min.js\", \"https://cdn.bokeh.org/bokeh/release/bokeh-tables-3.5.0.min.js\", \"https://cdn.bokeh.org/bokeh/release/bokeh-mathjax-3.5.0.min.js\"];\n  const css_urls = [];\n\n  const inline_js = [    function(Bokeh) {\n      Bokeh.set_log_level(\"info\");\n    },\nfunction(Bokeh) {\n    }\n  ];\n\n  function run_inline_js() {\n    if (root.Bokeh !== undefined || force === true) {\n      try {\n            for (let i = 0; i < inline_js.length; i++) {\n      inline_js[i].call(root, root.Bokeh);\n    }\n\n      } catch (error) {display_loaded(error);throw error;\n      }if (force === true) {\n        display_loaded();\n      }} else if (Date.now() < root._bokeh_timeout) {\n      setTimeout(run_inline_js, 100);\n    } else if (!root._bokeh_failed_load) {\n      console.log(\"Bokeh: BokehJS failed to load within specified timeout.\");\n      root._bokeh_failed_load = true;\n    } else if (force !== true) {\n      const cell = $(document.getElementById(\"e0c13143-b0dc-4ddf-a6c4-d59151bf7603\")).parents('.cell').data().cell;\n      cell.output_area.append_execute_result(NB_LOAD_WARNING)\n    }\n  }\n\n  if (root._bokeh_is_loading === 0) {\n    console.debug(\"Bokeh: BokehJS loaded, going straight to plotting\");\n    run_inline_js();\n  } else {\n    load_libs(css_urls, js_urls, function() {\n      console.debug(\"Bokeh: BokehJS plotting callback run at\", now());\n      run_inline_js();\n    });\n  }\n}(window));"
     },
     "metadata": {},
     "output_type": "display_data"
    }
   ],
   "execution_count": 10
  },
  {
   "metadata": {
    "ExecuteTime": {
     "end_time": "2024-07-25T15:36:49.184595Z",
     "start_time": "2024-07-25T15:36:49.130527Z"
    }
   },
   "cell_type": "code",
   "source": [
    "# Load the data\n",
    "data = pd.read_csv(galaxy_data)\n",
    "data['Hubble Parameter'] = np.ones(len(data['Velocity (km/s)']))\n",
    "data = data.drop(\"SDSS ID\", axis=1)\n",
    "data.dropna()\n",
    "\n",
    "# Create a ColumnDataSource\n",
    "source = ColumnDataSource(data)\n",
    "\n",
    "# Unique list of students\n",
    "students = ['All'] + data['Name'].astype(str).unique().tolist()\n",
    "\n",
    "# Create a dropdown selector for students\n",
    "select = Select(title=\"Select Student\", value=students[0], options=students)\n",
    "\n",
    "# Create a Bokeh figure\n",
    "x_limits = (-data['Distance (Mpc)'].max() * 0.05, data['Distance (Mpc)'].max() * 1.1)\n",
    "y_limits = (-data['Velocity (km/s)'].max() * 0.1, data['Velocity (km/s)'].max() * 1.1)\n",
    "p = figure(title=\"Galaxy Velocity vs Distance\", x_axis_label='Distance (Mpc)', y_axis_label='Velocity (km/s)', x_range=x_limits, y_range=y_limits, height=400, sizing_mode=\"stretch_width\")\n",
    "\n",
    "# Scatter plot\n",
    "scatter = p.scatter('Distance (Mpc)', 'Velocity (km/s)', source=source, size=8, color=linear_cmap('Velocity (km/s)', Viridis256, min(data['Velocity (km/s)']), max(data['Velocity (km/s)'])))\n",
    "\n",
    "# Create a ColumnDataSource for the line\n",
    "line_source = ColumnDataSource(data=dict(xs=[[]], ys=[[]]))\n",
    "\n",
    "# Add a line glyph\n",
    "line_renderer = p.multi_line(xs='xs', ys='ys', source=line_source, line_color='red', line_width=2)\n",
    "\n",
    "draw_tool = PolyDrawTool(renderers=[line_renderer], num_objects=1)\n",
    "p.add_tools(draw_tool)\n",
    "p.toolbar.active_drag = draw_tool\n",
    "\n",
    "# Define normalized positions (0 to 1 range)\n",
    "x_norm = 0.1  # 20% of the x-axis range\n",
    "y_norm = 0.9  # 50% of the y-axis range\n",
    "\n",
    "# Convert normalized positions to data units\n",
    "x_pos = x_limits[0] + x_norm * (x_limits[1] - x_limits[0])\n",
    "y_pos = y_limits[0] + y_norm * (y_limits[1] - y_limits[0])\n",
    "\n",
    "# Label to display the slope of the line\n",
    "label = Label(x=x_pos, y=y_pos, x_units='screen', text='Slope: N/A', text_font_size='12pt', text_color='black')\n",
    "p.add_layout(label)\n",
    "\n",
    "# JavaScript callback to filter data by student\n",
    "select_callback = CustomJS(args=dict(source=source, original_source=source.data, line_source=line_source, select=select, label=label), code=\"\"\"\n",
    "    const data = source.data;\n",
    "    const original_data = original_source;\n",
    "    const student = select.value;\n",
    "\n",
    "    const filtered_data = Object.keys(data).reduce((acc, key) => {\n",
    "        acc[key] = [];\n",
    "        return acc;\n",
    "    }, {});\n",
    "\n",
    "    for (let i = 0; i < original_data['Name'].length; i++) {\n",
    "        if (original_data['Name'][i] === student) {\n",
    "            for (let key in data) {\n",
    "                filtered_data[key].push(original_data[key][i]);\n",
    "            }\n",
    "        }\n",
    "    }\n",
    "\n",
    "    for (let key in data) {\n",
    "        data[key] = filtered_data[key];\n",
    "    }\n",
    "    \n",
    "    if (student === 'All') {\n",
    "        for (let key in data) {\n",
    "            data[key] = original_data[key];\n",
    "        }\n",
    "    }\n",
    "\n",
    "    source.change.emit();\n",
    "\"\"\")\n",
    "\n",
    "select.js_on_change('value', select_callback)\n",
    "\n",
    "# JavaScript callback to calculate slope\n",
    "slope_callback = CustomJS(args=dict(line_source=line_source, tool=draw_tool, label=label), code=\"\"\"\n",
    "    // Update the slope label if a line is drawn\n",
    "    if (line_source.data['xs'].length > 0) {\n",
    "        const xs = line_source.data['xs'][0];\n",
    "        const ys = line_source.data['ys'][0];\n",
    "\n",
    "        if (xs.length >= 2) {\n",
    "            const slope = (ys[1] - ys[0]) / (xs[1] - xs[0]);\n",
    "            label.text = `Slope: ${slope.toFixed(2)}`;\n",
    "        \n",
    "            if (xs.length > 2 && xs[0] != xs[1]) {\n",
    "                console.log(\"Values are different!\")\n",
    "                tool.active = false;\n",
    "            }\n",
    "        }\n",
    "    }\n",
    "\"\"\")\n",
    "\n",
    "line_source.js_on_change('data', slope_callback)\n",
    "\n",
    "# Layout the plot and dropdown\n",
    "layout = column(select, p, sizing_mode=\"stretch_width\")\n",
    "\n",
    "# Display the plot\n",
    "show(layout)"
   ],
   "id": "115d849d4e875630",
   "outputs": [
    {
     "data": {
      "text/html": [
       "\n",
       "  <div id=\"d6e997a3-a9a7-4540-bc15-d4daf933f5f7\" data-root-id=\"p1154\" style=\"display: contents;\"></div>\n"
      ]
     },
     "metadata": {},
     "output_type": "display_data"
    },
    {
     "data": {
      "application/javascript": "(function(root) {\n  function embed_document(root) {\n  const docs_json = {\"557d4e7b-6ab3-4277-851c-37204712be44\":{\"version\":\"3.5.0\",\"title\":\"Bokeh Application\",\"roots\":[{\"type\":\"object\",\"name\":\"Column\",\"id\":\"p1154\",\"attributes\":{\"sizing_mode\":\"stretch_width\",\"children\":[{\"type\":\"object\",\"name\":\"Select\",\"id\":\"p1090\",\"attributes\":{\"js_property_callbacks\":{\"type\":\"map\",\"entries\":[[\"change:value\",[{\"type\":\"object\",\"name\":\"CustomJS\",\"id\":\"p1152\",\"attributes\":{\"args\":{\"type\":\"map\",\"entries\":[[\"source\",{\"type\":\"object\",\"name\":\"ColumnDataSource\",\"id\":\"p1087\",\"attributes\":{\"selected\":{\"type\":\"object\",\"name\":\"Selection\",\"id\":\"p1088\",\"attributes\":{\"indices\":[],\"line_indices\":[]}},\"selection_policy\":{\"type\":\"object\",\"name\":\"UnionRenderers\",\"id\":\"p1089\"},\"data\":{\"type\":\"map\",\"entries\":[[\"index\",{\"type\":\"ndarray\",\"array\":{\"type\":\"bytes\",\"data\":\"AAAAAAEAAAACAAAAAwAAAAQAAAAFAAAABgAAAAcAAAAIAAAACQAAAAoAAAALAAAADAAAAA0AAAAOAAAADwAAABAAAAARAAAAEgAAABMAAAAUAAAAFQAAABYAAAAXAAAAGAAAABkAAAAaAAAAGwAAABwAAAAdAAAAHgAAAB8AAAAgAAAAIQAAACIAAAAjAAAAJAAAACUAAAAmAAAAJwAAACgAAAApAAAAKgAAACsAAAAsAAAALQAAAC4AAAAvAAAAMAAAADEAAAAyAAAAMwAAADQAAAA1AAAANgAAADcAAAA4AAAAOQAAADoAAAA7AAAAPAAAAD0AAAA+AAAAPwAAAEAAAABBAAAAQgAAAEMAAABEAAAARQAAAEYAAAA=\"},\"shape\":[71],\"dtype\":\"int32\",\"order\":\"little\"}],[\"Name\",{\"type\":\"ndarray\",\"array\":[\"Adam Sherman\",\"Adam Sherman\",\"Adam Sherman\",\"Adam Sherman\",\"Adam Sherman\",\"Adam Sherman\",\"Adam Sherman\",\"Adam Sherman\",\"Adam Sherman\",\"Adam Sherman\",\"Adam Sherman\",\"Elizabeth Watts\",\"Elizabeth Watts\",\"Elizabeth Watts\",\"Elizabeth Watts\",\"Elizabeth Watts\",\"Elizabeth Watts\",\"Elizabeth Watts\",\"Elizabeth Watts\",\"Elizabeth Watts\",\"Elizabeth Watts\",\"Dexter Watkins\",\"Dexter Watkins\",\"Dexter Watkins\",\"Dexter Watkins\",\"Dexter Watkins\",\"Dexter Watkins\",\"Dexter Watkins\",\"Dexter Watkins\",\"Dexter Watkins\",\"Dexter Watkins\",\"Sergio Perez Jr.\",\"Sergio Perez Jr.\",\"Sergio Perez Jr.\",\"Sergio Perez Jr.\",\"Sergio Perez Jr.\",\"Sergio Perez Jr.\",\"Sergio Perez Jr.\",\"Sergio Perez Jr.\",\"Sergio Perez Jr.\",\"Sergio Perez Jr.\",\"Michael Davis\",\"Michael Davis\",\"Michael Davis\",\"Michael Davis\",\"Michael Davis\",\"Michael Davis\",\"Michael Davis\",\"Michael Davis\",\"Michael Davis\",\"Michael Davis\",\"Gregory Arias\",\"Gregory Arias\",\"Gregory Arias\",\"Gregory Arias\",\"Gregory Arias\",\"Gregory Arias\",\"Gregory Arias\",\"Gregory Arias\",\"Gregory Arias\",\"Gregory Arias\",\"Ellie Alejo\",\"Ellie Alejo\",\"Ellie Alejo\",\"Ellie Alejo\",\"Ellie Alejo\",\"Ellie Alejo\",\"Ellie Alejo\",\"Ellie Alejo\",\"Ellie Alejo\",\"Ellie Alejo\"],\"shape\":[71],\"dtype\":\"object\",\"order\":\"little\"}],[\"RA\",{\"type\":\"ndarray\",\"array\":{\"type\":\"bytes\",\"data\":\"UKULVgERZED68CxBBp5jQK+P86NG8mJAOlc5WY8iZEABEBw8OAlnQBMteTxtB2dAr2vFSIB/ZkC9PWO6K3NmQEkpjT2AS3BAoKaWrXVdcEBG66hqgl1wQDt8iPwpB2dAZOAl3XsTaUA4e7FBsLxjQOeugJ12+G9AVxBeFi6RZ0BBt5c0RjVjQDVttT1wcmZAp+uJrutKcEBiwy7lV/FoQKuVCb/0Z3BAQ6RLpFlnaUD+eipMxFpqQItPATBea2pAJ+uBoG1pcECjOh3IugZmQH2e9d+5g2dA4cM287WGY0AFkfsMXvVmQEr6av0jEWdAzse1oaLXZ0DQrSGCe3NmQPEsQUYA1WZARt/u9qotZ0DOOXgmNEhkQCOgwhFkhmlA3uPxWcPrb0Bn1edq61lnQHfGrThLpmZA4wOWt/68aEDMxpRZzrVqQJ/pgH/l82ZAyNkqd5XJYkCVBbjFYRpjQLa+SGjLoWVAL1wM1Bi+Y0D/gGK/woVjQJIQm36/nm9A1ToWgCvzakAMkj6tIvhnQEpUuZoGbGxARidLrTd5ZkCq40Iv7VxmQDTr1nxm2GdAUOhQ4SOgZEBTN7zFKJ1oQPg404StHnBAhC+nX/3yb0DLZDieTyxmQC6Kwz6m52NAr2vFSIB/ZkAoSwixDnZmQMigbvv5dmZA3YjdLX97ZkC9PWO6K3NmQEkpjT2AS3BAZOAl3XsTaUA4e7FBsLxjQOeugJ12+G9AVxBeFi6RZ0BBt5c0RjVjQA==\"},\"shape\":[71],\"dtype\":\"float64\",\"order\":\"little\"}],[\"Dec\",{\"type\":\"ndarray\",\"array\":{\"type\":\"bytes\",\"data\":\"HZ9eY3Z+K0ANbq0nodIwQI47hHUMXzdAjaj9lDIGOEAfkP2MCHcNQNXnrEfI+SZAVKj0sOyK4b+48NXxDDgCwGyHEm+VEE5APGu3XWjSTUCFCDiEKtFNQGtcqInx0+G/MP4lxaFYA8CpzhmDXWzePwLy4zeehU5AR3XqbRu91r/SrA2Jy5bqv8udSBk5V/+/wfb+zEEVT0DvdqHfFebzv3UJ4pfVLE5ABhrRFSON8r/AhFUuMJnhvxU3ur+E9um/iaza2ufRTUCDs16D8575v2J1GfIXANk/Mvbh/RGm7L+MeijUSpYDwIfIsUGbBvG/fDtKpLur8784qdO1wtHmP3UzioJsCDBAmZm6p4IyLUCnTkfNRX7kv8DGDIxwdvI/cOLUnHbYT0A6lFpVGkwAwLOarie6wgXAR7h6Yl5O5T/urC4HwA/Sv5xJIAhFkOo/nkMkQfsT1T8IYLhvhFDcP5e+56mNN+o/PO/2BPjT2D/jgiKDhCvsv2SM9hV3209AkTJs0DPP2L/cDb4K0j/5v4AOg9pnrei/ZFGcUP2k3z9yMK3jfsvzP1kx6scXhvS/aaexgLPL8T9rO0g0qijuv+QGjapw/01AHnita1GVTkDZb3nuNc8LwAIiNQ+WaM0/VKj0sOyK4b9zLfTmixTdvyrdcrlu9+C/66bsam2n27+48NXxDDgCwGyHEm+VEE5AMP4lxaFYA8CpzhmDXWzePwLy4zeehU5AR3XqbRu91r/SrA2Jy5bqvw==\"},\"shape\":[71],\"dtype\":\"float64\",\"order\":\"little\"}],[\"Redshift\",{\"type\":\"ndarray\",\"array\":{\"type\":\"bytes\",\"data\":\"ziUsXBy2cT/A3swB5WOlP2QReYFIdbw/FgwZVad/pj8H9yvm5YV7PyYBamrZWrE/U4I47hhHlj8JZDxrMyWUP7rHiPoTS5w/AAAAAAAA+H8AAAAAAAD4f/ZHc7+eitg/r9/Aoiq/lz+3ob1VMludP1sQoXwHYIc/XxI+xqIKlz9K4WoyHRmpP0hK/lD+KJU/ZMEOrV/6nD+berSj/puTPy+eKKZe+ZQ//muzkAQKij/Zm9Z1wUOZPwWUn7clMKk/YQ838R8cnT8Ncx8MfhOdP4jVH2EYsHQ/TICKeCWooT+ydfxZJNSZP2N/+ktie5M/u3p4Q9j4hT/W2C0bAB60PxpiCy0qY30/fmrOV08Bbj8PdkY4hjB5PxJCcvjFIag/aEgNVGOVkD/ko4P98FaWP72iIQRgE5Q/aOnppygskz/jkj4IXLKjP6h3bUY485Q/dFYTXXqooT8oJhTHJp6IPxd2pDzrAZQ/m+dGYMUMnT8CFhKT5HeiP7gY6k2YcpY/QyXoDuafdj9vqTR2SoaCP+q1uEqgVqM/HwctPf0UtD+1/TDkBrN5P+icAg30WJg/yzkE0CDsoz8hbMIHwImSPzTsvRmxJpE/V9t/Ko/qlz/GXAgow6ebP9v3LPgC7Z0/U4I47hhHlj+OtgEKu0m4PzoL1pNUAcA/MzATwQ85tT8JZDxrMyWUP7rHiPoTS5w/r9/Aoiq/lz+3ob1VMludP1sQoXwHYIc/XxI+xqIKlz9K4WoyHRmpPw==\"},\"shape\":[71],\"dtype\":\"float64\",\"order\":\"little\"}],[\"Velocity (km/s)\",{\"type\":\"ndarray\",\"array\":{\"type\":\"bytes\",\"data\":\"46WbxOBElECLbOf7qXrIQI/C9SisSOBADAIrh2a/yUBcIEHxY3+fQAAAAABw3NNAZDvfT61+uUCcxCCw8g23QClcj8KFMMBAAAAAAAAA+H8AAAAAAAD4f8P1KFzjFfxA/Knx0g0tu0AUrkfhOszAQLByaJEtwKpAF9nO93NeukCDwMqh9bjMQBKDwMpBN7hAcT0K19OUwECwcmiR7XC2QMdLN4nBALhA/tR46abMrUCq8dJNwum8QG3n+6lR08xAcT0K1yOowEDZzvdTM6PAQGZmZmbmrJdAg8DKoeU0xEDRItv5/o69QPhT46WbS7ZAtMh2vh8lqUC+nxovtQXXQHZPHhbK0KBAuECC4kcrkUDr4jYawNOcQAwCK4fmnctAdZMYBHb6skB3vp8az5C5QDVeukmM+bZA1XjpJvHwtUApXI/ChYrGQIcW2c63+bdAWDm0yEY1xEAK16NwPSysQARWDi2S5bZAbxKDwFqfwECgGi/dpCLFQPp+arx0sLlAZDvfT03kmUBGlPYGHzOlQG8Sg8CKIcZAvp8aL2X71kDY8PRKGWmdQIGVQ4sM3btABFYOLaLMxkCuR+F6FDe1QGiR7Xy/oLNADAIrh7Zeu0DsUbgeJaa/QCPb+X6qH8FAZDvfT61+uUDjpZvEoMvbQClcj8IFUeJAke18P6VJ2ECcxCCw8g23QClcj8KFMMBA/Knx0g0tu0AUrkfhOszAQLByaJEtwKpAF9nO93NeukCDwMqh9bjMQA==\"},\"shape\":[71],\"dtype\":\"float64\",\"order\":\"little\"}],[\"Distance (Mpc)\",{\"type\":\"ndarray\",\"array\":{\"type\":\"bytes\",\"data\":\"w/UoXI/CNUAUrkfheih+QClcj8L1aHJA16NwPQrbdUBxPQrXo1BSQBSuR+F6tGpA9ihcj8JVYUApXI/C9QhMQOF6FK5HqWVAAAAAAAAA+H8AAAAAAAD4f+F6FK5H841AKVyPwvVYWUDsUbgehctZQK5H4XoUPlFAj8L1KFx/WEApXI/C9ThYQHsUrkfhGmdA9ihcj8K1WEBmZmZmZsZSQI/C9Shc71ZASOF6FK4fbUAzMzMzM5NjQJqZmZmZAWVAKVyPwvUIWkAUrkfheqRVQI/C9Shcb0xArkfhehRWakDD9Shcj2JhQArXo3A9GllAuB6F61EYT0BxPQrXo6hzQEjhehSuV1RA4XoUrkfBQUC4HoXrUchZQHE9CtejmGhAMzMzMzODX0Bcj8L1KCxeQAAAAAAAgGBAmpmZmZn5XkAfhetRuJ5oQGZmZmZmxlVA16NwPQo/akDhehSuR5FUQDMzMzMzY1NAMzMzMzOPc0C4HoXrUYBlQHsUrkfhil1AUrgehesxQUCPwvUoXH9VQMP1KFyP4lRAuB6F61HIUkDNzMzMzExGQHsUrkfhyl9AhetRuB4lY0D2KFyPwgVXQGZmZmZmRlZAH4XrUbjOdkDhehSuRxFvQK5H4XoUjltAuB6F61GwbEBSuB6F63WAQHsUrkfhRIBAFK5H4Xr6hECF61G4Hj1lQLgehetR4GpAAAAAAABIZUDhehSuR6FkQFK4HoXr0VlApHA9CtdjWEAfhetRuP5hQA==\"},\"shape\":[71],\"dtype\":\"float64\",\"order\":\"little\"}],[\"Estimated Expansion Rate\",{\"type\":\"ndarray\",\"array\":{\"type\":\"bytes\",\"data\":\"AAAAAAAA+H8AAAAAAAD4fwAAAAAAAPh/AAAAAAAA+H8AAAAAAAD4fwAAAAAAAPh/AAAAAAAA+H8AAAAAAAD4fwAAAAAAAPh/AAAAAAAA+H8AAAAAAAD4fwAAAAAAAPh/AAAAAAAA+H8AAAAAAAD4fwAAAAAAAPh/AAAAAAAA+H8AAAAAAAD4fwAAAAAAAPh/AAAAAAAA+H8AAAAAAAD4fwAAAAAAAPh/AAAAAAAA+H8AAAAAAAD4fwAAAAAAAPh/AAAAAAAA+H8AAAAAAAD4fwAAAAAAAPh/AAAAAAAA+H8AAAAAAAD4fwAAAAAAAPh/AAAAAAAA+H8AAAAAAAD4fwAAAAAAAPh/AAAAAAAA+H8AAAAAAAD4fwAAAAAAAPh/AAAAAAAA+H8AAAAAAAD4fwAAAAAAAPh/AAAAAAAA+H8AAAAAAAD4fwAAAAAAAPh/AAAAAAAA+H8AAAAAAAD4fwAAAAAAAPh/AAAAAAAA+H8AAAAAAAD4fwAAAAAAAPh/AAAAAAAA+H8AAAAAAAD4fwAAAAAAAPh/AAAAAAAA+H8AAAAAAAD4fwAAAAAAAPh/AAAAAAAA+H8AAAAAAAD4fwAAAAAAAPh/AAAAAAAA+H8AAAAAAAD4fwAAAAAAAPh/AAAAAAAA+H8AAAAAAAD4fwAAAAAAAPh/AAAAAAAA+H8AAAAAAAD4fwAAAAAAAPh/AAAAAAAA+H8AAAAAAAD4fwAAAAAAAPh/AAAAAAAA+H8AAAAAAAD4fw==\"},\"shape\":[71],\"dtype\":\"float64\",\"order\":\"little\"}],[\"Fitted Expansion Rate\",{\"type\":\"ndarray\",\"array\":{\"type\":\"bytes\",\"data\":\"AAAAAAAA+H8AAAAAAAD4fwAAAAAAAPh/AAAAAAAA+H8AAAAAAAD4fwAAAAAAAPh/AAAAAAAA+H8AAAAAAAD4fwAAAAAAAPh/AAAAAAAA+H8AAAAAAAD4fwAAAAAAAPh/AAAAAAAA+H8AAAAAAAD4fwAAAAAAAPh/AAAAAAAA+H8AAAAAAAD4fwAAAAAAAPh/AAAAAAAA+H8AAAAAAAD4fwAAAAAAAPh/AAAAAAAA+H8AAAAAAAD4fwAAAAAAAPh/AAAAAAAA+H8AAAAAAAD4fwAAAAAAAPh/AAAAAAAA+H8AAAAAAAD4fwAAAAAAAPh/AAAAAAAA+H8AAAAAAAD4fwAAAAAAAPh/AAAAAAAA+H8AAAAAAAD4fwAAAAAAAPh/AAAAAAAA+H8AAAAAAAD4fwAAAAAAAPh/AAAAAAAA+H8AAAAAAAD4fwAAAAAAAPh/AAAAAAAA+H8AAAAAAAD4fwAAAAAAAPh/AAAAAAAA+H8AAAAAAAD4fwAAAAAAAPh/AAAAAAAA+H8AAAAAAAD4fwAAAAAAAPh/AAAAAAAA+H8AAAAAAAD4fwAAAAAAAPh/AAAAAAAA+H8AAAAAAAD4fwAAAAAAAPh/AAAAAAAA+H8AAAAAAAD4fwAAAAAAAPh/AAAAAAAA+H8AAAAAAAD4fwAAAAAAAPh/AAAAAAAA+H8AAAAAAAD4fwAAAAAAAPh/AAAAAAAA+H8AAAAAAAD4fwAAAAAAAPh/AAAAAAAA+H8AAAAAAAD4fw==\"},\"shape\":[71],\"dtype\":\"float64\",\"order\":\"little\"}],[\"Hubble Parameter\",{\"type\":\"ndarray\",\"array\":{\"type\":\"bytes\",\"data\":\"AAAAAAAA8D8AAAAAAADwPwAAAAAAAPA/AAAAAAAA8D8AAAAAAADwPwAAAAAAAPA/AAAAAAAA8D8AAAAAAADwPwAAAAAAAPA/AAAAAAAA8D8AAAAAAADwPwAAAAAAAPA/AAAAAAAA8D8AAAAAAADwPwAAAAAAAPA/AAAAAAAA8D8AAAAAAADwPwAAAAAAAPA/AAAAAAAA8D8AAAAAAADwPwAAAAAAAPA/AAAAAAAA8D8AAAAAAADwPwAAAAAAAPA/AAAAAAAA8D8AAAAAAADwPwAAAAAAAPA/AAAAAAAA8D8AAAAAAADwPwAAAAAAAPA/AAAAAAAA8D8AAAAAAADwPwAAAAAAAPA/AAAAAAAA8D8AAAAAAADwPwAAAAAAAPA/AAAAAAAA8D8AAAAAAADwPwAAAAAAAPA/AAAAAAAA8D8AAAAAAADwPwAAAAAAAPA/AAAAAAAA8D8AAAAAAADwPwAAAAAAAPA/AAAAAAAA8D8AAAAAAADwPwAAAAAAAPA/AAAAAAAA8D8AAAAAAADwPwAAAAAAAPA/AAAAAAAA8D8AAAAAAADwPwAAAAAAAPA/AAAAAAAA8D8AAAAAAADwPwAAAAAAAPA/AAAAAAAA8D8AAAAAAADwPwAAAAAAAPA/AAAAAAAA8D8AAAAAAADwPwAAAAAAAPA/AAAAAAAA8D8AAAAAAADwPwAAAAAAAPA/AAAAAAAA8D8AAAAAAADwPwAAAAAAAPA/AAAAAAAA8D8AAAAAAADwPw==\"},\"shape\":[71],\"dtype\":\"float64\",\"order\":\"little\"}]]}}}],[\"original_source\",{\"type\":\"map\",\"entries\":[[\"index\",{\"type\":\"ndarray\",\"array\":{\"type\":\"bytes\",\"data\":\"AAAAAAEAAAACAAAAAwAAAAQAAAAFAAAABgAAAAcAAAAIAAAACQAAAAoAAAALAAAADAAAAA0AAAAOAAAADwAAABAAAAARAAAAEgAAABMAAAAUAAAAFQAAABYAAAAXAAAAGAAAABkAAAAaAAAAGwAAABwAAAAdAAAAHgAAAB8AAAAgAAAAIQAAACIAAAAjAAAAJAAAACUAAAAmAAAAJwAAACgAAAApAAAAKgAAACsAAAAsAAAALQAAAC4AAAAvAAAAMAAAADEAAAAyAAAAMwAAADQAAAA1AAAANgAAADcAAAA4AAAAOQAAADoAAAA7AAAAPAAAAD0AAAA+AAAAPwAAAEAAAABBAAAAQgAAAEMAAABEAAAARQAAAEYAAAA=\"},\"shape\":[71],\"dtype\":\"int32\",\"order\":\"little\"}],[\"Name\",{\"type\":\"ndarray\",\"array\":[\"Adam Sherman\",\"Adam Sherman\",\"Adam Sherman\",\"Adam Sherman\",\"Adam Sherman\",\"Adam Sherman\",\"Adam Sherman\",\"Adam Sherman\",\"Adam Sherman\",\"Adam Sherman\",\"Adam Sherman\",\"Elizabeth Watts\",\"Elizabeth Watts\",\"Elizabeth Watts\",\"Elizabeth Watts\",\"Elizabeth Watts\",\"Elizabeth Watts\",\"Elizabeth Watts\",\"Elizabeth Watts\",\"Elizabeth Watts\",\"Elizabeth Watts\",\"Dexter Watkins\",\"Dexter Watkins\",\"Dexter Watkins\",\"Dexter Watkins\",\"Dexter Watkins\",\"Dexter Watkins\",\"Dexter Watkins\",\"Dexter Watkins\",\"Dexter Watkins\",\"Dexter Watkins\",\"Sergio Perez Jr.\",\"Sergio Perez Jr.\",\"Sergio Perez Jr.\",\"Sergio Perez Jr.\",\"Sergio Perez Jr.\",\"Sergio Perez Jr.\",\"Sergio Perez Jr.\",\"Sergio Perez Jr.\",\"Sergio Perez Jr.\",\"Sergio Perez Jr.\",\"Michael Davis\",\"Michael Davis\",\"Michael Davis\",\"Michael Davis\",\"Michael Davis\",\"Michael Davis\",\"Michael Davis\",\"Michael Davis\",\"Michael Davis\",\"Michael Davis\",\"Gregory Arias\",\"Gregory Arias\",\"Gregory Arias\",\"Gregory Arias\",\"Gregory Arias\",\"Gregory Arias\",\"Gregory Arias\",\"Gregory Arias\",\"Gregory Arias\",\"Gregory Arias\",\"Ellie Alejo\",\"Ellie Alejo\",\"Ellie Alejo\",\"Ellie Alejo\",\"Ellie Alejo\",\"Ellie Alejo\",\"Ellie Alejo\",\"Ellie Alejo\",\"Ellie Alejo\",\"Ellie Alejo\"],\"shape\":[71],\"dtype\":\"object\",\"order\":\"little\"}],[\"RA\",{\"type\":\"ndarray\",\"array\":{\"type\":\"bytes\",\"data\":\"UKULVgERZED68CxBBp5jQK+P86NG8mJAOlc5WY8iZEABEBw8OAlnQBMteTxtB2dAr2vFSIB/ZkC9PWO6K3NmQEkpjT2AS3BAoKaWrXVdcEBG66hqgl1wQDt8iPwpB2dAZOAl3XsTaUA4e7FBsLxjQOeugJ12+G9AVxBeFi6RZ0BBt5c0RjVjQDVttT1wcmZAp+uJrutKcEBiwy7lV/FoQKuVCb/0Z3BAQ6RLpFlnaUD+eipMxFpqQItPATBea2pAJ+uBoG1pcECjOh3IugZmQH2e9d+5g2dA4cM287WGY0AFkfsMXvVmQEr6av0jEWdAzse1oaLXZ0DQrSGCe3NmQPEsQUYA1WZARt/u9qotZ0DOOXgmNEhkQCOgwhFkhmlA3uPxWcPrb0Bn1edq61lnQHfGrThLpmZA4wOWt/68aEDMxpRZzrVqQJ/pgH/l82ZAyNkqd5XJYkCVBbjFYRpjQLa+SGjLoWVAL1wM1Bi+Y0D/gGK/woVjQJIQm36/nm9A1ToWgCvzakAMkj6tIvhnQEpUuZoGbGxARidLrTd5ZkCq40Iv7VxmQDTr1nxm2GdAUOhQ4SOgZEBTN7zFKJ1oQPg404StHnBAhC+nX/3yb0DLZDieTyxmQC6Kwz6m52NAr2vFSIB/ZkAoSwixDnZmQMigbvv5dmZA3YjdLX97ZkC9PWO6K3NmQEkpjT2AS3BAZOAl3XsTaUA4e7FBsLxjQOeugJ12+G9AVxBeFi6RZ0BBt5c0RjVjQA==\"},\"shape\":[71],\"dtype\":\"float64\",\"order\":\"little\"}],[\"Dec\",{\"type\":\"ndarray\",\"array\":{\"type\":\"bytes\",\"data\":\"HZ9eY3Z+K0ANbq0nodIwQI47hHUMXzdAjaj9lDIGOEAfkP2MCHcNQNXnrEfI+SZAVKj0sOyK4b+48NXxDDgCwGyHEm+VEE5APGu3XWjSTUCFCDiEKtFNQGtcqInx0+G/MP4lxaFYA8CpzhmDXWzePwLy4zeehU5AR3XqbRu91r/SrA2Jy5bqv8udSBk5V/+/wfb+zEEVT0DvdqHfFebzv3UJ4pfVLE5ABhrRFSON8r/AhFUuMJnhvxU3ur+E9um/iaza2ufRTUCDs16D8575v2J1GfIXANk/Mvbh/RGm7L+MeijUSpYDwIfIsUGbBvG/fDtKpLur8784qdO1wtHmP3UzioJsCDBAmZm6p4IyLUCnTkfNRX7kv8DGDIxwdvI/cOLUnHbYT0A6lFpVGkwAwLOarie6wgXAR7h6Yl5O5T/urC4HwA/Sv5xJIAhFkOo/nkMkQfsT1T8IYLhvhFDcP5e+56mNN+o/PO/2BPjT2D/jgiKDhCvsv2SM9hV3209AkTJs0DPP2L/cDb4K0j/5v4AOg9pnrei/ZFGcUP2k3z9yMK3jfsvzP1kx6scXhvS/aaexgLPL8T9rO0g0qijuv+QGjapw/01AHnita1GVTkDZb3nuNc8LwAIiNQ+WaM0/VKj0sOyK4b9zLfTmixTdvyrdcrlu9+C/66bsam2n27+48NXxDDgCwGyHEm+VEE5AMP4lxaFYA8CpzhmDXWzePwLy4zeehU5AR3XqbRu91r/SrA2Jy5bqvw==\"},\"shape\":[71],\"dtype\":\"float64\",\"order\":\"little\"}],[\"Redshift\",{\"type\":\"ndarray\",\"array\":{\"type\":\"bytes\",\"data\":\"ziUsXBy2cT/A3swB5WOlP2QReYFIdbw/FgwZVad/pj8H9yvm5YV7PyYBamrZWrE/U4I47hhHlj8JZDxrMyWUP7rHiPoTS5w/AAAAAAAA+H8AAAAAAAD4f/ZHc7+eitg/r9/Aoiq/lz+3ob1VMludP1sQoXwHYIc/XxI+xqIKlz9K4WoyHRmpP0hK/lD+KJU/ZMEOrV/6nD+berSj/puTPy+eKKZe+ZQ//muzkAQKij/Zm9Z1wUOZPwWUn7clMKk/YQ838R8cnT8Ncx8MfhOdP4jVH2EYsHQ/TICKeCWooT+ydfxZJNSZP2N/+ktie5M/u3p4Q9j4hT/W2C0bAB60PxpiCy0qY30/fmrOV08Bbj8PdkY4hjB5PxJCcvjFIag/aEgNVGOVkD/ko4P98FaWP72iIQRgE5Q/aOnppygskz/jkj4IXLKjP6h3bUY485Q/dFYTXXqooT8oJhTHJp6IPxd2pDzrAZQ/m+dGYMUMnT8CFhKT5HeiP7gY6k2YcpY/QyXoDuafdj9vqTR2SoaCP+q1uEqgVqM/HwctPf0UtD+1/TDkBrN5P+icAg30WJg/yzkE0CDsoz8hbMIHwImSPzTsvRmxJpE/V9t/Ko/qlz/GXAgow6ebP9v3LPgC7Z0/U4I47hhHlj+OtgEKu0m4PzoL1pNUAcA/MzATwQ85tT8JZDxrMyWUP7rHiPoTS5w/r9/Aoiq/lz+3ob1VMludP1sQoXwHYIc/XxI+xqIKlz9K4WoyHRmpPw==\"},\"shape\":[71],\"dtype\":\"float64\",\"order\":\"little\"}],[\"Velocity (km/s)\",{\"type\":\"ndarray\",\"array\":{\"type\":\"bytes\",\"data\":\"46WbxOBElECLbOf7qXrIQI/C9SisSOBADAIrh2a/yUBcIEHxY3+fQAAAAABw3NNAZDvfT61+uUCcxCCw8g23QClcj8KFMMBAAAAAAAAA+H8AAAAAAAD4f8P1KFzjFfxA/Knx0g0tu0AUrkfhOszAQLByaJEtwKpAF9nO93NeukCDwMqh9bjMQBKDwMpBN7hAcT0K19OUwECwcmiR7XC2QMdLN4nBALhA/tR46abMrUCq8dJNwum8QG3n+6lR08xAcT0K1yOowEDZzvdTM6PAQGZmZmbmrJdAg8DKoeU0xEDRItv5/o69QPhT46WbS7ZAtMh2vh8lqUC+nxovtQXXQHZPHhbK0KBAuECC4kcrkUDr4jYawNOcQAwCK4fmnctAdZMYBHb6skB3vp8az5C5QDVeukmM+bZA1XjpJvHwtUApXI/ChYrGQIcW2c63+bdAWDm0yEY1xEAK16NwPSysQARWDi2S5bZAbxKDwFqfwECgGi/dpCLFQPp+arx0sLlAZDvfT03kmUBGlPYGHzOlQG8Sg8CKIcZAvp8aL2X71kDY8PRKGWmdQIGVQ4sM3btABFYOLaLMxkCuR+F6FDe1QGiR7Xy/oLNADAIrh7Zeu0DsUbgeJaa/QCPb+X6qH8FAZDvfT61+uUDjpZvEoMvbQClcj8IFUeJAke18P6VJ2ECcxCCw8g23QClcj8KFMMBA/Knx0g0tu0AUrkfhOszAQLByaJEtwKpAF9nO93NeukCDwMqh9bjMQA==\"},\"shape\":[71],\"dtype\":\"float64\",\"order\":\"little\"}],[\"Distance (Mpc)\",{\"type\":\"ndarray\",\"array\":{\"type\":\"bytes\",\"data\":\"w/UoXI/CNUAUrkfheih+QClcj8L1aHJA16NwPQrbdUBxPQrXo1BSQBSuR+F6tGpA9ihcj8JVYUApXI/C9QhMQOF6FK5HqWVAAAAAAAAA+H8AAAAAAAD4f+F6FK5H841AKVyPwvVYWUDsUbgehctZQK5H4XoUPlFAj8L1KFx/WEApXI/C9ThYQHsUrkfhGmdA9ihcj8K1WEBmZmZmZsZSQI/C9Shc71ZASOF6FK4fbUAzMzMzM5NjQJqZmZmZAWVAKVyPwvUIWkAUrkfheqRVQI/C9Shcb0xArkfhehRWakDD9Shcj2JhQArXo3A9GllAuB6F61EYT0BxPQrXo6hzQEjhehSuV1RA4XoUrkfBQUC4HoXrUchZQHE9CtejmGhAMzMzMzODX0Bcj8L1KCxeQAAAAAAAgGBAmpmZmZn5XkAfhetRuJ5oQGZmZmZmxlVA16NwPQo/akDhehSuR5FUQDMzMzMzY1NAMzMzMzOPc0C4HoXrUYBlQHsUrkfhil1AUrgehesxQUCPwvUoXH9VQMP1KFyP4lRAuB6F61HIUkDNzMzMzExGQHsUrkfhyl9AhetRuB4lY0D2KFyPwgVXQGZmZmZmRlZAH4XrUbjOdkDhehSuRxFvQK5H4XoUjltAuB6F61GwbEBSuB6F63WAQHsUrkfhRIBAFK5H4Xr6hECF61G4Hj1lQLgehetR4GpAAAAAAABIZUDhehSuR6FkQFK4HoXr0VlApHA9CtdjWEAfhetRuP5hQA==\"},\"shape\":[71],\"dtype\":\"float64\",\"order\":\"little\"}],[\"Estimated Expansion Rate\",{\"type\":\"ndarray\",\"array\":{\"type\":\"bytes\",\"data\":\"AAAAAAAA+H8AAAAAAAD4fwAAAAAAAPh/AAAAAAAA+H8AAAAAAAD4fwAAAAAAAPh/AAAAAAAA+H8AAAAAAAD4fwAAAAAAAPh/AAAAAAAA+H8AAAAAAAD4fwAAAAAAAPh/AAAAAAAA+H8AAAAAAAD4fwAAAAAAAPh/AAAAAAAA+H8AAAAAAAD4fwAAAAAAAPh/AAAAAAAA+H8AAAAAAAD4fwAAAAAAAPh/AAAAAAAA+H8AAAAAAAD4fwAAAAAAAPh/AAAAAAAA+H8AAAAAAAD4fwAAAAAAAPh/AAAAAAAA+H8AAAAAAAD4fwAAAAAAAPh/AAAAAAAA+H8AAAAAAAD4fwAAAAAAAPh/AAAAAAAA+H8AAAAAAAD4fwAAAAAAAPh/AAAAAAAA+H8AAAAAAAD4fwAAAAAAAPh/AAAAAAAA+H8AAAAAAAD4fwAAAAAAAPh/AAAAAAAA+H8AAAAAAAD4fwAAAAAAAPh/AAAAAAAA+H8AAAAAAAD4fwAAAAAAAPh/AAAAAAAA+H8AAAAAAAD4fwAAAAAAAPh/AAAAAAAA+H8AAAAAAAD4fwAAAAAAAPh/AAAAAAAA+H8AAAAAAAD4fwAAAAAAAPh/AAAAAAAA+H8AAAAAAAD4fwAAAAAAAPh/AAAAAAAA+H8AAAAAAAD4fwAAAAAAAPh/AAAAAAAA+H8AAAAAAAD4fwAAAAAAAPh/AAAAAAAA+H8AAAAAAAD4fwAAAAAAAPh/AAAAAAAA+H8AAAAAAAD4fw==\"},\"shape\":[71],\"dtype\":\"float64\",\"order\":\"little\"}],[\"Fitted Expansion Rate\",{\"type\":\"ndarray\",\"array\":{\"type\":\"bytes\",\"data\":\"AAAAAAAA+H8AAAAAAAD4fwAAAAAAAPh/AAAAAAAA+H8AAAAAAAD4fwAAAAAAAPh/AAAAAAAA+H8AAAAAAAD4fwAAAAAAAPh/AAAAAAAA+H8AAAAAAAD4fwAAAAAAAPh/AAAAAAAA+H8AAAAAAAD4fwAAAAAAAPh/AAAAAAAA+H8AAAAAAAD4fwAAAAAAAPh/AAAAAAAA+H8AAAAAAAD4fwAAAAAAAPh/AAAAAAAA+H8AAAAAAAD4fwAAAAAAAPh/AAAAAAAA+H8AAAAAAAD4fwAAAAAAAPh/AAAAAAAA+H8AAAAAAAD4fwAAAAAAAPh/AAAAAAAA+H8AAAAAAAD4fwAAAAAAAPh/AAAAAAAA+H8AAAAAAAD4fwAAAAAAAPh/AAAAAAAA+H8AAAAAAAD4fwAAAAAAAPh/AAAAAAAA+H8AAAAAAAD4fwAAAAAAAPh/AAAAAAAA+H8AAAAAAAD4fwAAAAAAAPh/AAAAAAAA+H8AAAAAAAD4fwAAAAAAAPh/AAAAAAAA+H8AAAAAAAD4fwAAAAAAAPh/AAAAAAAA+H8AAAAAAAD4fwAAAAAAAPh/AAAAAAAA+H8AAAAAAAD4fwAAAAAAAPh/AAAAAAAA+H8AAAAAAAD4fwAAAAAAAPh/AAAAAAAA+H8AAAAAAAD4fwAAAAAAAPh/AAAAAAAA+H8AAAAAAAD4fwAAAAAAAPh/AAAAAAAA+H8AAAAAAAD4fwAAAAAAAPh/AAAAAAAA+H8AAAAAAAD4fw==\"},\"shape\":[71],\"dtype\":\"float64\",\"order\":\"little\"}],[\"Hubble Parameter\",{\"type\":\"ndarray\",\"array\":{\"type\":\"bytes\",\"data\":\"AAAAAAAA8D8AAAAAAADwPwAAAAAAAPA/AAAAAAAA8D8AAAAAAADwPwAAAAAAAPA/AAAAAAAA8D8AAAAAAADwPwAAAAAAAPA/AAAAAAAA8D8AAAAAAADwPwAAAAAAAPA/AAAAAAAA8D8AAAAAAADwPwAAAAAAAPA/AAAAAAAA8D8AAAAAAADwPwAAAAAAAPA/AAAAAAAA8D8AAAAAAADwPwAAAAAAAPA/AAAAAAAA8D8AAAAAAADwPwAAAAAAAPA/AAAAAAAA8D8AAAAAAADwPwAAAAAAAPA/AAAAAAAA8D8AAAAAAADwPwAAAAAAAPA/AAAAAAAA8D8AAAAAAADwPwAAAAAAAPA/AAAAAAAA8D8AAAAAAADwPwAAAAAAAPA/AAAAAAAA8D8AAAAAAADwPwAAAAAAAPA/AAAAAAAA8D8AAAAAAADwPwAAAAAAAPA/AAAAAAAA8D8AAAAAAADwPwAAAAAAAPA/AAAAAAAA8D8AAAAAAADwPwAAAAAAAPA/AAAAAAAA8D8AAAAAAADwPwAAAAAAAPA/AAAAAAAA8D8AAAAAAADwPwAAAAAAAPA/AAAAAAAA8D8AAAAAAADwPwAAAAAAAPA/AAAAAAAA8D8AAAAAAADwPwAAAAAAAPA/AAAAAAAA8D8AAAAAAADwPwAAAAAAAPA/AAAAAAAA8D8AAAAAAADwPwAAAAAAAPA/AAAAAAAA8D8AAAAAAADwPwAAAAAAAPA/AAAAAAAA8D8AAAAAAADwPw==\"},\"shape\":[71],\"dtype\":\"float64\",\"order\":\"little\"}]]}],[\"line_source\",{\"type\":\"object\",\"name\":\"ColumnDataSource\",\"id\":\"p1138\",\"attributes\":{\"js_property_callbacks\":{\"type\":\"map\",\"entries\":[[\"change:data\",[{\"type\":\"object\",\"name\":\"CustomJS\",\"id\":\"p1153\",\"attributes\":{\"args\":{\"type\":\"map\",\"entries\":[[\"line_source\",{\"id\":\"p1138\"}],[\"tool\",{\"type\":\"object\",\"name\":\"PolyDrawTool\",\"id\":\"p1150\",\"attributes\":{\"renderers\":[{\"type\":\"object\",\"name\":\"GlyphRenderer\",\"id\":\"p1147\",\"attributes\":{\"data_source\":{\"id\":\"p1138\"},\"view\":{\"type\":\"object\",\"name\":\"CDSView\",\"id\":\"p1148\",\"attributes\":{\"filter\":{\"type\":\"object\",\"name\":\"AllIndices\",\"id\":\"p1149\"}}},\"glyph\":{\"type\":\"object\",\"name\":\"MultiLine\",\"id\":\"p1144\",\"attributes\":{\"xs\":{\"type\":\"field\",\"field\":\"xs\"},\"ys\":{\"type\":\"field\",\"field\":\"ys\"},\"line_color\":{\"type\":\"value\",\"value\":\"red\"},\"line_width\":{\"type\":\"value\",\"value\":2}}},\"nonselection_glyph\":{\"type\":\"object\",\"name\":\"MultiLine\",\"id\":\"p1145\",\"attributes\":{\"xs\":{\"type\":\"field\",\"field\":\"xs\"},\"ys\":{\"type\":\"field\",\"field\":\"ys\"},\"line_color\":{\"type\":\"value\",\"value\":\"red\"},\"line_alpha\":{\"type\":\"value\",\"value\":0.1},\"line_width\":{\"type\":\"value\",\"value\":2}}},\"muted_glyph\":{\"type\":\"object\",\"name\":\"MultiLine\",\"id\":\"p1146\",\"attributes\":{\"xs\":{\"type\":\"field\",\"field\":\"xs\"},\"ys\":{\"type\":\"field\",\"field\":\"ys\"},\"line_color\":{\"type\":\"value\",\"value\":\"red\"},\"line_alpha\":{\"type\":\"value\",\"value\":0.2},\"line_width\":{\"type\":\"value\",\"value\":2}}}}}],\"num_objects\":1}}],[\"label\",{\"type\":\"object\",\"name\":\"Label\",\"id\":\"p1151\",\"attributes\":{\"text\":\"Slope: N/A\",\"text_color\":\"black\",\"text_font_size\":\"12pt\",\"x\":62.29665,\"y\":112737.44580000002,\"x_units\":\"screen\"}}]]},\"code\":\"\\n    // Update the slope label if a line is drawn\\n    if (line_source.data['xs'].length > 0) {\\n        const xs = line_source.data['xs'][0];\\n        const ys = line_source.data['ys'][0];\\n\\n        if (xs.length >= 2) {\\n            const slope = (ys[1] - ys[0]) / (xs[1] - xs[0]);\\n            label.text = `Slope: ${slope.toFixed(2)}`;\\n        \\n            if (xs.length > 2 && xs[0] != xs[1]) {\\n                console.log(\\\"Values are different!\\\")\\n                tool.active = false;\\n            }\\n        }\\n    }\\n\"}}]]]},\"selected\":{\"type\":\"object\",\"name\":\"Selection\",\"id\":\"p1139\",\"attributes\":{\"indices\":[],\"line_indices\":[]}},\"selection_policy\":{\"type\":\"object\",\"name\":\"UnionRenderers\",\"id\":\"p1140\"},\"data\":{\"type\":\"map\",\"entries\":[[\"xs\",[[]]],[\"ys\",[[]]]]}}}],[\"select\",{\"id\":\"p1090\"}],[\"label\",{\"id\":\"p1151\"}]]},\"code\":\"\\n    const data = source.data;\\n    const original_data = original_source;\\n    const student = select.value;\\n\\n    const filtered_data = Object.keys(data).reduce((acc, key) => {\\n        acc[key] = [];\\n        return acc;\\n    }, {});\\n\\n    for (let i = 0; i < original_data['Name'].length; i++) {\\n        if (original_data['Name'][i] === student) {\\n            for (let key in data) {\\n                filtered_data[key].push(original_data[key][i]);\\n            }\\n        }\\n    }\\n\\n    for (let key in data) {\\n        data[key] = filtered_data[key];\\n    }\\n    \\n    if (student === 'All') {\\n        for (let key in data) {\\n            data[key] = original_data[key];\\n        }\\n    }\\n\\n    source.change.emit();\\n\"}}]]]},\"title\":\"Select Student\",\"options\":[\"All\",\"Adam Sherman\",\"Elizabeth Watts\",\"Dexter Watkins\",\"Sergio Perez Jr.\",\"Michael Davis\",\"Gregory Arias\",\"Ellie Alejo\"],\"value\":\"All\"}},{\"type\":\"object\",\"name\":\"Figure\",\"id\":\"p1091\",\"attributes\":{\"height\":400,\"sizing_mode\":\"stretch_width\",\"x_range\":{\"type\":\"object\",\"name\":\"Range1d\",\"id\":\"p1101\",\"attributes\":{\"start\":-47.920500000000004,\"end\":1054.251}},\"y_range\":{\"type\":\"object\",\"name\":\"Range1d\",\"id\":\"p1102\",\"attributes\":{\"start\":-11503.821000000002,\"end\":126542.03100000002}},\"x_scale\":{\"type\":\"object\",\"name\":\"LinearScale\",\"id\":\"p1103\"},\"y_scale\":{\"type\":\"object\",\"name\":\"LinearScale\",\"id\":\"p1104\"},\"title\":{\"type\":\"object\",\"name\":\"Title\",\"id\":\"p1094\",\"attributes\":{\"text\":\"Galaxy Velocity vs Distance\",\"text_color\":\"#E0E0E0\",\"text_font\":\"Helvetica\",\"text_font_size\":\"1.15em\"}},\"outline_line_color\":\"#E0E0E0\",\"outline_line_alpha\":0.25,\"renderers\":[{\"type\":\"object\",\"name\":\"GlyphRenderer\",\"id\":\"p1135\",\"attributes\":{\"data_source\":{\"id\":\"p1087\"},\"view\":{\"type\":\"object\",\"name\":\"CDSView\",\"id\":\"p1136\",\"attributes\":{\"filter\":{\"type\":\"object\",\"name\":\"AllIndices\",\"id\":\"p1137\"}}},\"glyph\":{\"type\":\"object\",\"name\":\"Scatter\",\"id\":\"p1132\",\"attributes\":{\"x\":{\"type\":\"field\",\"field\":\"Distance (Mpc)\"},\"y\":{\"type\":\"field\",\"field\":\"Velocity (km/s)\"},\"size\":{\"type\":\"value\",\"value\":8},\"line_color\":{\"type\":\"field\",\"field\":\"Velocity (km/s)\",\"transform\":{\"type\":\"object\",\"name\":\"LinearColorMapper\",\"id\":\"p1128\",\"attributes\":{\"palette\":[\"#440154\",\"#440255\",\"#440357\",\"#450558\",\"#45065A\",\"#45085B\",\"#46095C\",\"#460B5E\",\"#460C5F\",\"#460E61\",\"#470F62\",\"#471163\",\"#471265\",\"#471466\",\"#471567\",\"#471669\",\"#47186A\",\"#48196B\",\"#481A6C\",\"#481C6E\",\"#481D6F\",\"#481E70\",\"#482071\",\"#482172\",\"#482273\",\"#482374\",\"#472575\",\"#472676\",\"#472777\",\"#472878\",\"#472A79\",\"#472B7A\",\"#472C7B\",\"#462D7C\",\"#462F7C\",\"#46307D\",\"#46317E\",\"#45327F\",\"#45347F\",\"#453580\",\"#453681\",\"#443781\",\"#443982\",\"#433A83\",\"#433B83\",\"#433C84\",\"#423D84\",\"#423E85\",\"#424085\",\"#414186\",\"#414286\",\"#404387\",\"#404487\",\"#3F4587\",\"#3F4788\",\"#3E4888\",\"#3E4989\",\"#3D4A89\",\"#3D4B89\",\"#3D4C89\",\"#3C4D8A\",\"#3C4E8A\",\"#3B508A\",\"#3B518A\",\"#3A528B\",\"#3A538B\",\"#39548B\",\"#39558B\",\"#38568B\",\"#38578C\",\"#37588C\",\"#37598C\",\"#365A8C\",\"#365B8C\",\"#355C8C\",\"#355D8C\",\"#345E8D\",\"#345F8D\",\"#33608D\",\"#33618D\",\"#32628D\",\"#32638D\",\"#31648D\",\"#31658D\",\"#31668D\",\"#30678D\",\"#30688D\",\"#2F698D\",\"#2F6A8D\",\"#2E6B8E\",\"#2E6C8E\",\"#2E6D8E\",\"#2D6E8E\",\"#2D6F8E\",\"#2C708E\",\"#2C718E\",\"#2C728E\",\"#2B738E\",\"#2B748E\",\"#2A758E\",\"#2A768E\",\"#2A778E\",\"#29788E\",\"#29798E\",\"#287A8E\",\"#287A8E\",\"#287B8E\",\"#277C8E\",\"#277D8E\",\"#277E8E\",\"#267F8E\",\"#26808E\",\"#26818E\",\"#25828E\",\"#25838D\",\"#24848D\",\"#24858D\",\"#24868D\",\"#23878D\",\"#23888D\",\"#23898D\",\"#22898D\",\"#228A8D\",\"#228B8D\",\"#218C8D\",\"#218D8C\",\"#218E8C\",\"#208F8C\",\"#20908C\",\"#20918C\",\"#1F928C\",\"#1F938B\",\"#1F948B\",\"#1F958B\",\"#1F968B\",\"#1E978A\",\"#1E988A\",\"#1E998A\",\"#1E998A\",\"#1E9A89\",\"#1E9B89\",\"#1E9C89\",\"#1E9D88\",\"#1E9E88\",\"#1E9F88\",\"#1EA087\",\"#1FA187\",\"#1FA286\",\"#1FA386\",\"#20A485\",\"#20A585\",\"#21A685\",\"#21A784\",\"#22A784\",\"#23A883\",\"#23A982\",\"#24AA82\",\"#25AB81\",\"#26AC81\",\"#27AD80\",\"#28AE7F\",\"#29AF7F\",\"#2AB07E\",\"#2BB17D\",\"#2CB17D\",\"#2EB27C\",\"#2FB37B\",\"#30B47A\",\"#32B57A\",\"#33B679\",\"#35B778\",\"#36B877\",\"#38B976\",\"#39B976\",\"#3BBA75\",\"#3DBB74\",\"#3EBC73\",\"#40BD72\",\"#42BE71\",\"#44BE70\",\"#45BF6F\",\"#47C06E\",\"#49C16D\",\"#4BC26C\",\"#4DC26B\",\"#4FC369\",\"#51C468\",\"#53C567\",\"#55C666\",\"#57C665\",\"#59C764\",\"#5BC862\",\"#5EC961\",\"#60C960\",\"#62CA5F\",\"#64CB5D\",\"#67CC5C\",\"#69CC5B\",\"#6BCD59\",\"#6DCE58\",\"#70CE56\",\"#72CF55\",\"#74D054\",\"#77D052\",\"#79D151\",\"#7CD24F\",\"#7ED24E\",\"#81D34C\",\"#83D34B\",\"#86D449\",\"#88D547\",\"#8BD546\",\"#8DD644\",\"#90D643\",\"#92D741\",\"#95D73F\",\"#97D83E\",\"#9AD83C\",\"#9DD93A\",\"#9FD938\",\"#A2DA37\",\"#A5DA35\",\"#A7DB33\",\"#AADB32\",\"#ADDC30\",\"#AFDC2E\",\"#B2DD2C\",\"#B5DD2B\",\"#B7DD29\",\"#BADE27\",\"#BDDE26\",\"#BFDF24\",\"#C2DF22\",\"#C5DF21\",\"#C7E01F\",\"#CAE01E\",\"#CDE01D\",\"#CFE11C\",\"#D2E11B\",\"#D4E11A\",\"#D7E219\",\"#DAE218\",\"#DCE218\",\"#DFE318\",\"#E1E318\",\"#E4E318\",\"#E7E419\",\"#E9E419\",\"#ECE41A\",\"#EEE51B\",\"#F1E51C\",\"#F3E51E\",\"#F6E61F\",\"#F8E621\",\"#FAE622\",\"#FDE724\"],\"low\":1098.8202,\"high\":115038.21}}},\"fill_color\":{\"type\":\"field\",\"field\":\"Velocity (km/s)\",\"transform\":{\"id\":\"p1128\"}},\"hatch_color\":{\"type\":\"field\",\"field\":\"Velocity (km/s)\",\"transform\":{\"id\":\"p1128\"}}}},\"nonselection_glyph\":{\"type\":\"object\",\"name\":\"Scatter\",\"id\":\"p1133\",\"attributes\":{\"x\":{\"type\":\"field\",\"field\":\"Distance (Mpc)\"},\"y\":{\"type\":\"field\",\"field\":\"Velocity (km/s)\"},\"size\":{\"type\":\"value\",\"value\":8},\"line_color\":{\"type\":\"field\",\"field\":\"Velocity (km/s)\",\"transform\":{\"id\":\"p1128\"}},\"line_alpha\":{\"type\":\"value\",\"value\":0.1},\"fill_color\":{\"type\":\"field\",\"field\":\"Velocity (km/s)\",\"transform\":{\"id\":\"p1128\"}},\"fill_alpha\":{\"type\":\"value\",\"value\":0.1},\"hatch_color\":{\"type\":\"field\",\"field\":\"Velocity (km/s)\",\"transform\":{\"id\":\"p1128\"}},\"hatch_alpha\":{\"type\":\"value\",\"value\":0.1}}},\"muted_glyph\":{\"type\":\"object\",\"name\":\"Scatter\",\"id\":\"p1134\",\"attributes\":{\"x\":{\"type\":\"field\",\"field\":\"Distance (Mpc)\"},\"y\":{\"type\":\"field\",\"field\":\"Velocity (km/s)\"},\"size\":{\"type\":\"value\",\"value\":8},\"line_color\":{\"type\":\"field\",\"field\":\"Velocity (km/s)\",\"transform\":{\"id\":\"p1128\"}},\"line_alpha\":{\"type\":\"value\",\"value\":0.2},\"fill_color\":{\"type\":\"field\",\"field\":\"Velocity (km/s)\",\"transform\":{\"id\":\"p1128\"}},\"fill_alpha\":{\"type\":\"value\",\"value\":0.2},\"hatch_color\":{\"type\":\"field\",\"field\":\"Velocity (km/s)\",\"transform\":{\"id\":\"p1128\"}},\"hatch_alpha\":{\"type\":\"value\",\"value\":0.2}}}}},{\"id\":\"p1147\"}],\"toolbar\":{\"type\":\"object\",\"name\":\"Toolbar\",\"id\":\"p1100\",\"attributes\":{\"tools\":[{\"type\":\"object\",\"name\":\"PanTool\",\"id\":\"p1115\"},{\"type\":\"object\",\"name\":\"WheelZoomTool\",\"id\":\"p1116\",\"attributes\":{\"renderers\":\"auto\"}},{\"type\":\"object\",\"name\":\"BoxZoomTool\",\"id\":\"p1117\",\"attributes\":{\"overlay\":{\"type\":\"object\",\"name\":\"BoxAnnotation\",\"id\":\"p1118\",\"attributes\":{\"syncable\":false,\"line_color\":\"black\",\"line_alpha\":1.0,\"line_width\":2,\"line_dash\":[4,4],\"fill_color\":\"lightgrey\",\"fill_alpha\":0.5,\"level\":\"overlay\",\"visible\":false,\"left\":{\"type\":\"number\",\"value\":\"nan\"},\"right\":{\"type\":\"number\",\"value\":\"nan\"},\"top\":{\"type\":\"number\",\"value\":\"nan\"},\"bottom\":{\"type\":\"number\",\"value\":\"nan\"},\"left_units\":\"canvas\",\"right_units\":\"canvas\",\"top_units\":\"canvas\",\"bottom_units\":\"canvas\",\"handles\":{\"type\":\"object\",\"name\":\"BoxInteractionHandles\",\"id\":\"p1124\",\"attributes\":{\"all\":{\"type\":\"object\",\"name\":\"AreaVisuals\",\"id\":\"p1123\",\"attributes\":{\"fill_color\":\"white\",\"hover_fill_color\":\"lightgray\"}}}}}}}},{\"type\":\"object\",\"name\":\"SaveTool\",\"id\":\"p1125\"},{\"type\":\"object\",\"name\":\"ResetTool\",\"id\":\"p1126\"},{\"type\":\"object\",\"name\":\"HelpTool\",\"id\":\"p1127\"},{\"id\":\"p1150\"}],\"active_drag\":{\"id\":\"p1150\"}}},\"left\":[{\"type\":\"object\",\"name\":\"LinearAxis\",\"id\":\"p1110\",\"attributes\":{\"ticker\":{\"type\":\"object\",\"name\":\"BasicTicker\",\"id\":\"p1111\",\"attributes\":{\"mantissas\":[1,2,5]}},\"formatter\":{\"type\":\"object\",\"name\":\"BasicTickFormatter\",\"id\":\"p1112\"},\"axis_label\":\"Velocity (km/s)\",\"axis_label_standoff\":10,\"axis_label_text_color\":\"#E0E0E0\",\"axis_label_text_font\":\"Helvetica\",\"axis_label_text_font_size\":\"1.25em\",\"axis_label_text_font_style\":\"normal\",\"major_label_policy\":{\"type\":\"object\",\"name\":\"AllLabels\",\"id\":\"p1113\"},\"major_label_text_color\":\"#E0E0E0\",\"major_label_text_font\":\"Helvetica\",\"major_label_text_font_size\":\"1.025em\",\"axis_line_color\":\"#E0E0E0\",\"axis_line_alpha\":0,\"major_tick_line_color\":\"#E0E0E0\",\"major_tick_line_alpha\":0,\"minor_tick_line_color\":\"#E0E0E0\",\"minor_tick_line_alpha\":0}}],\"below\":[{\"type\":\"object\",\"name\":\"LinearAxis\",\"id\":\"p1105\",\"attributes\":{\"ticker\":{\"type\":\"object\",\"name\":\"BasicTicker\",\"id\":\"p1106\",\"attributes\":{\"mantissas\":[1,2,5]}},\"formatter\":{\"type\":\"object\",\"name\":\"BasicTickFormatter\",\"id\":\"p1107\"},\"axis_label\":\"Distance (Mpc)\",\"axis_label_standoff\":10,\"axis_label_text_color\":\"#E0E0E0\",\"axis_label_text_font\":\"Helvetica\",\"axis_label_text_font_size\":\"1.25em\",\"axis_label_text_font_style\":\"normal\",\"major_label_policy\":{\"type\":\"object\",\"name\":\"AllLabels\",\"id\":\"p1108\"},\"major_label_text_color\":\"#E0E0E0\",\"major_label_text_font\":\"Helvetica\",\"major_label_text_font_size\":\"1.025em\",\"axis_line_color\":\"#E0E0E0\",\"axis_line_alpha\":0,\"major_tick_line_color\":\"#E0E0E0\",\"major_tick_line_alpha\":0,\"minor_tick_line_color\":\"#E0E0E0\",\"minor_tick_line_alpha\":0}}],\"center\":[{\"type\":\"object\",\"name\":\"Grid\",\"id\":\"p1109\",\"attributes\":{\"axis\":{\"id\":\"p1105\"},\"grid_line_color\":\"#E0E0E0\",\"grid_line_alpha\":0.25}},{\"type\":\"object\",\"name\":\"Grid\",\"id\":\"p1114\",\"attributes\":{\"dimension\":1,\"axis\":{\"id\":\"p1110\"},\"grid_line_color\":\"#E0E0E0\",\"grid_line_alpha\":0.25}},{\"id\":\"p1151\"}],\"background_fill_color\":\"#20262B\",\"border_fill_color\":\"#15191C\"}}]}}]}};\n  const render_items = [{\"docid\":\"557d4e7b-6ab3-4277-851c-37204712be44\",\"roots\":{\"p1154\":\"d6e997a3-a9a7-4540-bc15-d4daf933f5f7\"},\"root_ids\":[\"p1154\"]}];\n  void root.Bokeh.embed.embed_items_notebook(docs_json, render_items);\n  }\n  if (root.Bokeh !== undefined) {\n    embed_document(root);\n  } else {\n    let attempts = 0;\n    const timer = setInterval(function(root) {\n      if (root.Bokeh !== undefined) {\n        clearInterval(timer);\n        embed_document(root);\n      } else {\n        attempts++;\n        if (attempts > 100) {\n          clearInterval(timer);\n          console.log(\"Bokeh: ERROR: Unable to run BokehJS code because BokehJS library is missing\");\n        }\n      }\n    }, 10, root)\n  }\n})(window);",
      "application/vnd.bokehjs_exec.v0+json": ""
     },
     "metadata": {
      "application/vnd.bokehjs_exec.v0+json": {
       "id": "p1154"
      }
     },
     "output_type": "display_data"
    }
   ],
   "execution_count": 11
  },
  {
   "metadata": {},
   "cell_type": "markdown",
   "source": [
    "### Fitting the Data with Linear Regression\n",
    "\n",
    "Linear regression is a way to take a linear model (like a simple line) and fit it to a set of data. In the code block below, enter your name exactly as it appears in the drop down list above. Running the cells will fit a model to the data and print out the true slope. Record the results in the [Google Sheet](https://docs.google.com/spreadsheets/d/1mVRovTF8C1UJkQakQG_E9emnpJIRb1rdNx6UPNcm3rs/edit?usp=sharing)."
   ],
   "id": "a1266afb92414ac9"
  },
  {
   "metadata": {
    "ExecuteTime": {
     "end_time": "2024-07-25T15:36:49.188970Z",
     "start_time": "2024-07-25T15:36:49.186677Z"
    }
   },
   "cell_type": "code",
   "source": [
    "# Enter your name here exactly as it appears in the dropdown above.\n",
    "selected_student = \"All\""
   ],
   "id": "b404b03d51d7c04e",
   "outputs": [],
   "execution_count": 12
  },
  {
   "metadata": {
    "ExecuteTime": {
     "end_time": "2024-07-25T15:36:49.419993Z",
     "start_time": "2024-07-25T15:36:49.189667Z"
    }
   },
   "cell_type": "code",
   "source": [
    "from astropy.modeling.models import Linear1D\n",
    "from astropy.modeling.fitting import LinearLSQFitter\n",
    "\n",
    "measurement_data = Table.from_pandas(data)\n",
    "\n",
    "if selected_student != 'All':\n",
    "    mask = measurement_data['Name'] == selected_student\n",
    "    measurement_data = measurement_data[mask]\n",
    "    \n",
    "distance_data = measurement_data['Distance (Mpc)']\n",
    "velocity_data = measurement_data['Velocity (km/s)']\n",
    "\n",
    "model = Linear1D()\n",
    "fitted_model = LinearLSQFitter()(model, distance_data, velocity_data)"
   ],
   "id": "489d84f55050f544",
   "outputs": [
    {
     "ename": "LinAlgError",
     "evalue": "SVD did not converge in Linear Least Squares",
     "output_type": "error",
     "traceback": [
      "\u001B[0;31m---------------------------------------------------------------------------\u001B[0m",
      "\u001B[0;31mLinAlgError\u001B[0m                               Traceback (most recent call last)",
      "Cell \u001B[0;32mIn[13], line 14\u001B[0m\n\u001B[1;32m     11\u001B[0m velocity_data \u001B[38;5;241m=\u001B[39m measurement_data[\u001B[38;5;124m'\u001B[39m\u001B[38;5;124mVelocity (km/s)\u001B[39m\u001B[38;5;124m'\u001B[39m]\n\u001B[1;32m     13\u001B[0m model \u001B[38;5;241m=\u001B[39m Linear1D()\n\u001B[0;32m---> 14\u001B[0m fitted_model \u001B[38;5;241m=\u001B[39m \u001B[43mLinearLSQFitter\u001B[49m\u001B[43m(\u001B[49m\u001B[43m)\u001B[49m\u001B[43m(\u001B[49m\u001B[43mmodel\u001B[49m\u001B[43m,\u001B[49m\u001B[43m \u001B[49m\u001B[43mdistance_data\u001B[49m\u001B[43m,\u001B[49m\u001B[43m \u001B[49m\u001B[43mvelocity_data\u001B[49m\u001B[43m)\u001B[49m\n",
      "File \u001B[0;32m~/miniforge3/envs/wsp-dev/lib/python3.12/site-packages/astropy/modeling/fitting.py:301\u001B[0m, in \u001B[0;36mfitter_unit_support.<locals>.wrapper\u001B[0;34m(self, model, x, y, z, **kwargs)\u001B[0m\n\u001B[1;32m    296\u001B[0m         \u001B[38;5;28;01mraise\u001B[39;00m \u001B[38;5;167;01mNotImplementedError\u001B[39;00m(\n\u001B[1;32m    297\u001B[0m             \u001B[38;5;124m\"\u001B[39m\u001B[38;5;124mThis model does not support being fit to data with units.\u001B[39m\u001B[38;5;124m\"\u001B[39m\n\u001B[1;32m    298\u001B[0m         )\n\u001B[1;32m    300\u001B[0m \u001B[38;5;28;01melse\u001B[39;00m:\n\u001B[0;32m--> 301\u001B[0m     \u001B[38;5;28;01mreturn\u001B[39;00m \u001B[43mfunc\u001B[49m\u001B[43m(\u001B[49m\u001B[38;5;28;43mself\u001B[39;49m\u001B[43m,\u001B[49m\u001B[43m \u001B[49m\u001B[43mmodel\u001B[49m\u001B[43m,\u001B[49m\u001B[43m \u001B[49m\u001B[43mx\u001B[49m\u001B[43m,\u001B[49m\u001B[43m \u001B[49m\u001B[43my\u001B[49m\u001B[43m,\u001B[49m\u001B[43m \u001B[49m\u001B[43mz\u001B[49m\u001B[38;5;241;43m=\u001B[39;49m\u001B[43mz\u001B[49m\u001B[43m,\u001B[49m\u001B[43m \u001B[49m\u001B[38;5;241;43m*\u001B[39;49m\u001B[38;5;241;43m*\u001B[39;49m\u001B[43mkwargs\u001B[49m\u001B[43m)\u001B[49m\n",
      "File \u001B[0;32m~/miniforge3/envs/wsp-dev/lib/python3.12/site-packages/astropy/modeling/fitting.py:824\u001B[0m, in \u001B[0;36mLinearLSQFitter.__call__\u001B[0;34m(self, model, x, y, z, weights, rcond)\u001B[0m\n\u001B[1;32m    822\u001B[0m     a \u001B[38;5;241m=\u001B[39m lhs[good]\n\u001B[1;32m    823\u001B[0m     \u001B[38;5;66;03m# Solve for one or more models:\u001B[39;00m\n\u001B[0;32m--> 824\u001B[0m     lacoef, resids, rank, sval \u001B[38;5;241m=\u001B[39m \u001B[43mnp\u001B[49m\u001B[38;5;241;43m.\u001B[39;49m\u001B[43mlinalg\u001B[49m\u001B[38;5;241;43m.\u001B[39;49m\u001B[43mlstsq\u001B[49m\u001B[43m(\u001B[49m\u001B[43mlhs\u001B[49m\u001B[43m[\u001B[49m\u001B[43mgood\u001B[49m\u001B[43m]\u001B[49m\u001B[43m,\u001B[49m\u001B[43m \u001B[49m\u001B[43mrhs\u001B[49m\u001B[43m[\u001B[49m\u001B[43mgood\u001B[49m\u001B[43m]\u001B[49m\u001B[43m,\u001B[49m\u001B[43m \u001B[49m\u001B[43mrcond\u001B[49m\u001B[43m)\u001B[49m\n\u001B[1;32m    826\u001B[0m \u001B[38;5;28mself\u001B[39m\u001B[38;5;241m.\u001B[39mfit_info[\u001B[38;5;124m\"\u001B[39m\u001B[38;5;124mresiduals\u001B[39m\u001B[38;5;124m\"\u001B[39m] \u001B[38;5;241m=\u001B[39m resids\n\u001B[1;32m    827\u001B[0m \u001B[38;5;28mself\u001B[39m\u001B[38;5;241m.\u001B[39mfit_info[\u001B[38;5;124m\"\u001B[39m\u001B[38;5;124mrank\u001B[39m\u001B[38;5;124m\"\u001B[39m] \u001B[38;5;241m=\u001B[39m rank\n",
      "File \u001B[0;32m~/miniforge3/envs/wsp-dev/lib/python3.12/site-packages/numpy/linalg/linalg.py:2326\u001B[0m, in \u001B[0;36mlstsq\u001B[0;34m(a, b, rcond)\u001B[0m\n\u001B[1;32m   2323\u001B[0m \u001B[38;5;28;01mif\u001B[39;00m n_rhs \u001B[38;5;241m==\u001B[39m \u001B[38;5;241m0\u001B[39m:\n\u001B[1;32m   2324\u001B[0m     \u001B[38;5;66;03m# lapack can't handle n_rhs = 0 - so allocate the array one larger in that axis\u001B[39;00m\n\u001B[1;32m   2325\u001B[0m     b \u001B[38;5;241m=\u001B[39m zeros(b\u001B[38;5;241m.\u001B[39mshape[:\u001B[38;5;241m-\u001B[39m\u001B[38;5;241m2\u001B[39m] \u001B[38;5;241m+\u001B[39m (m, n_rhs \u001B[38;5;241m+\u001B[39m \u001B[38;5;241m1\u001B[39m), dtype\u001B[38;5;241m=\u001B[39mb\u001B[38;5;241m.\u001B[39mdtype)\n\u001B[0;32m-> 2326\u001B[0m x, resids, rank, s \u001B[38;5;241m=\u001B[39m \u001B[43mgufunc\u001B[49m\u001B[43m(\u001B[49m\u001B[43ma\u001B[49m\u001B[43m,\u001B[49m\u001B[43m \u001B[49m\u001B[43mb\u001B[49m\u001B[43m,\u001B[49m\u001B[43m \u001B[49m\u001B[43mrcond\u001B[49m\u001B[43m,\u001B[49m\u001B[43m \u001B[49m\u001B[43msignature\u001B[49m\u001B[38;5;241;43m=\u001B[39;49m\u001B[43msignature\u001B[49m\u001B[43m,\u001B[49m\u001B[43m \u001B[49m\u001B[43mextobj\u001B[49m\u001B[38;5;241;43m=\u001B[39;49m\u001B[43mextobj\u001B[49m\u001B[43m)\u001B[49m\n\u001B[1;32m   2327\u001B[0m \u001B[38;5;28;01mif\u001B[39;00m m \u001B[38;5;241m==\u001B[39m \u001B[38;5;241m0\u001B[39m:\n\u001B[1;32m   2328\u001B[0m     x[\u001B[38;5;241m.\u001B[39m\u001B[38;5;241m.\u001B[39m\u001B[38;5;241m.\u001B[39m] \u001B[38;5;241m=\u001B[39m \u001B[38;5;241m0\u001B[39m\n",
      "File \u001B[0;32m~/miniforge3/envs/wsp-dev/lib/python3.12/site-packages/numpy/linalg/linalg.py:124\u001B[0m, in \u001B[0;36m_raise_linalgerror_lstsq\u001B[0;34m(err, flag)\u001B[0m\n\u001B[1;32m    123\u001B[0m \u001B[38;5;28;01mdef\u001B[39;00m \u001B[38;5;21m_raise_linalgerror_lstsq\u001B[39m(err, flag):\n\u001B[0;32m--> 124\u001B[0m     \u001B[38;5;28;01mraise\u001B[39;00m LinAlgError(\u001B[38;5;124m\"\u001B[39m\u001B[38;5;124mSVD did not converge in Linear Least Squares\u001B[39m\u001B[38;5;124m\"\u001B[39m)\n",
      "\u001B[0;31mLinAlgError\u001B[0m: SVD did not converge in Linear Least Squares"
     ]
    }
   ],
   "execution_count": 13
  },
  {
   "metadata": {},
   "cell_type": "code",
   "source": "print(f\"The true slope (expansion rate) measured for {selected_student}: {fitted_model.slope.value:0.3f}.\")",
   "id": "4ed877387c72f4a2",
   "outputs": [],
   "execution_count": null
  },
  {
   "metadata": {},
   "cell_type": "code",
   "source": [
    "import matplotlib.pyplot as plt\n",
    "\n",
    "f, ax = plt.subplots(figsize=(8, 4))\n",
    "\n",
    "ax.scatter(distance_data, velocity_data, label='Measurement Data')\n",
    "ax.plot(distance_data, fitted_model(distance_data), label='Fitted Model', color='C3')\n",
    "\n",
    "ax.text(0.05, 0.9, f\"True Slope: {fitted_model.slope.value:.3f}\", transform=ax.transAxes)\n",
    "\n",
    "ax.set(xlabel=\"Distance (Mpc)\", ylabel=\"Velocity (km/s)\", title=f\"Slope fit for {selected_student}\");"
   ],
   "id": "c749bacbf44f5f4e",
   "outputs": [],
   "execution_count": null
  },
  {
   "metadata": {},
   "cell_type": "markdown",
   "source": [
    "```{admonition} Question\n",
    "How does your by-eye estimate of the expansion rate compare to the \"true\" value derived from the model fitting? Why might they be different?\n",
    "```"
   ],
   "id": "568461f0a174531d"
  },
  {
   "metadata": {},
   "cell_type": "code",
   "source": "",
   "id": "29e2947688a4cb57",
   "outputs": [],
   "execution_count": null
  }
 ],
 "metadata": {
  "kernelspec": {
   "display_name": "Python 3",
   "language": "python",
   "name": "python3"
  },
  "language_info": {
   "codemirror_mode": {
    "name": "ipython",
    "version": 2
   },
   "file_extension": ".py",
   "mimetype": "text/x-python",
   "name": "python",
   "nbconvert_exporter": "python",
   "pygments_lexer": "ipython2",
   "version": "2.7.6"
  }
 },
 "nbformat": 4,
 "nbformat_minor": 5
}
