{
 "cells": [
  {
   "metadata": {},
   "cell_type": "markdown",
   "source": [
    "# Analyzing SDSS Images with Astroquery and Photutils\n",
    "\n",
    "## Introduction\n",
    "\n",
    "In this exercise, you will use the SDSS (Sloan Digital Sky Survey) database to retrieve images of selected galaxies and measure their angular sizes. This process involves two main Python libraries: **Astroquery** for retrieving data from the SDSS, and **Photutils** for analyzing the images and measuring the angular sizes of the galaxies.\n",
    "\n",
    "## Retrieving SDSS Images with Astroquery\n",
    "\n",
    "**Astroquery** is a Python library designed to simplify the process of querying astronomical databases. It allows you to retrieve data from various astronomical surveys, including SDSS.\n",
    "\n",
    "1. **Set Up Your Environment**: Ensure you have Astroquery installed. If not, you can install it using pip:"
   ],
   "id": "c52ba44efdeab2c3"
  },
  {
   "metadata": {
    "ExecuteTime": {
     "end_time": "2024-07-22T23:32:22.132572Z",
     "start_time": "2024-07-22T23:32:20.636269Z"
    }
   },
   "cell_type": "code",
   "source": "!pip install astroquery photutils",
   "id": "b724b07da444377d",
   "outputs": [
    {
     "name": "stdout",
     "output_type": "stream",
     "text": [
      "Requirement already satisfied: astroquery in /Users/nmearl/miniforge3/envs/wsp-dev/lib/python3.12/site-packages (0.4.7)\r\n",
      "Requirement already satisfied: photutils in /Users/nmearl/miniforge3/envs/wsp-dev/lib/python3.12/site-packages (1.13.0)\r\n",
      "Requirement already satisfied: numpy>=1.18 in /Users/nmearl/miniforge3/envs/wsp-dev/lib/python3.12/site-packages (from astroquery) (1.26.4)\r\n",
      "Requirement already satisfied: astropy>=4.2.1 in /Users/nmearl/miniforge3/envs/wsp-dev/lib/python3.12/site-packages (from astroquery) (6.1.1)\r\n",
      "Requirement already satisfied: requests>=2.19 in /Users/nmearl/miniforge3/envs/wsp-dev/lib/python3.12/site-packages (from astroquery) (2.32.3)\r\n",
      "Requirement already satisfied: beautifulsoup4>=4.8 in /Users/nmearl/miniforge3/envs/wsp-dev/lib/python3.12/site-packages (from astroquery) (4.12.3)\r\n",
      "Requirement already satisfied: html5lib>=0.999 in /Users/nmearl/miniforge3/envs/wsp-dev/lib/python3.12/site-packages (from astroquery) (1.1)\r\n",
      "Requirement already satisfied: keyring>=15.0 in /Users/nmearl/miniforge3/envs/wsp-dev/lib/python3.12/site-packages (from astroquery) (25.2.1)\r\n",
      "Requirement already satisfied: pyvo>=1.1 in /Users/nmearl/miniforge3/envs/wsp-dev/lib/python3.12/site-packages (from astroquery) (1.5.2)\r\n",
      "Requirement already satisfied: pyerfa>=2.0.1.1 in /Users/nmearl/miniforge3/envs/wsp-dev/lib/python3.12/site-packages (from astropy>=4.2.1->astroquery) (2.0.1.4)\r\n",
      "Requirement already satisfied: astropy-iers-data>=0.2024.5.27.0.30.8 in /Users/nmearl/miniforge3/envs/wsp-dev/lib/python3.12/site-packages (from astropy>=4.2.1->astroquery) (0.2024.7.15.0.31.42)\r\n",
      "Requirement already satisfied: PyYAML>=3.13 in /Users/nmearl/miniforge3/envs/wsp-dev/lib/python3.12/site-packages (from astropy>=4.2.1->astroquery) (6.0.1)\r\n",
      "Requirement already satisfied: packaging>=19.0 in /Users/nmearl/miniforge3/envs/wsp-dev/lib/python3.12/site-packages (from astropy>=4.2.1->astroquery) (24.1)\r\n",
      "Requirement already satisfied: soupsieve>1.2 in /Users/nmearl/miniforge3/envs/wsp-dev/lib/python3.12/site-packages (from beautifulsoup4>=4.8->astroquery) (2.5)\r\n",
      "Requirement already satisfied: six>=1.9 in /Users/nmearl/miniforge3/envs/wsp-dev/lib/python3.12/site-packages (from html5lib>=0.999->astroquery) (1.16.0)\r\n",
      "Requirement already satisfied: webencodings in /Users/nmearl/miniforge3/envs/wsp-dev/lib/python3.12/site-packages (from html5lib>=0.999->astroquery) (0.5.1)\r\n",
      "Requirement already satisfied: jaraco.classes in /Users/nmearl/miniforge3/envs/wsp-dev/lib/python3.12/site-packages (from keyring>=15.0->astroquery) (3.4.0)\r\n",
      "Requirement already satisfied: jaraco.functools in /Users/nmearl/miniforge3/envs/wsp-dev/lib/python3.12/site-packages (from keyring>=15.0->astroquery) (4.0.1)\r\n",
      "Requirement already satisfied: jaraco.context in /Users/nmearl/miniforge3/envs/wsp-dev/lib/python3.12/site-packages (from keyring>=15.0->astroquery) (5.3.0)\r\n",
      "Requirement already satisfied: charset-normalizer<4,>=2 in /Users/nmearl/miniforge3/envs/wsp-dev/lib/python3.12/site-packages (from requests>=2.19->astroquery) (3.3.2)\r\n",
      "Requirement already satisfied: idna<4,>=2.5 in /Users/nmearl/miniforge3/envs/wsp-dev/lib/python3.12/site-packages (from requests>=2.19->astroquery) (3.7)\r\n",
      "Requirement already satisfied: urllib3<3,>=1.21.1 in /Users/nmearl/miniforge3/envs/wsp-dev/lib/python3.12/site-packages (from requests>=2.19->astroquery) (2.2.2)\r\n",
      "Requirement already satisfied: certifi>=2017.4.17 in /Users/nmearl/miniforge3/envs/wsp-dev/lib/python3.12/site-packages (from requests>=2.19->astroquery) (2024.7.4)\r\n",
      "Requirement already satisfied: more-itertools in /Users/nmearl/miniforge3/envs/wsp-dev/lib/python3.12/site-packages (from jaraco.classes->keyring>=15.0->astroquery) (10.3.0)\r\n"
     ]
    }
   ],
   "execution_count": 1
  },
  {
   "metadata": {},
   "cell_type": "markdown",
   "source": "2. **Query the SDSS Database**: Using Astroquery, you can search for images of the galaxies you are interested in. You will need to know the coordinates of each galaxy (right ascension and declination). Here’s how you can query the SDSS for images:",
   "id": "f8c30c94921dcadd"
  },
  {
   "metadata": {
    "ExecuteTime": {
     "end_time": "2024-07-22T23:32:22.703086Z",
     "start_time": "2024-07-22T23:32:22.134297Z"
    }
   },
   "cell_type": "code",
   "source": [
    "from astroquery.sdss import SDSS\n",
    "from astropy.coordinates import SkyCoord\n",
    "import astropy.units as u\n",
    "\n",
    "# Replace these coordinates with the ones for your galaxies\n",
    "coordinates = SkyCoord('0h8m05.63s +14d50m23.3s', unit=(u.hourangle, u.deg))\n",
    "\n",
    "# Query SDSS for the image\n",
    "xid = SDSS.query_region(coordinates, spectro=True, radius=0.1 * u.arcsec)"
   ],
   "id": "28fdc3dfd485a3a8",
   "outputs": [],
   "execution_count": 2
  },
  {
   "metadata": {},
   "cell_type": "markdown",
   "source": [
    "This code will retrieve data related to the galaxy's position. Adjust the parameters according to the specific galaxies you are studying.\n",
    "\n",
    "3. **Download the Images**: Once you have the data, you can download the images. Here’s how you can do it:"
   ],
   "id": "64b6c7b02c2c5a9d"
  },
  {
   "metadata": {
    "ExecuteTime": {
     "end_time": "2024-07-22T23:32:22.981658Z",
     "start_time": "2024-07-22T23:32:22.703853Z"
    }
   },
   "cell_type": "code",
   "source": [
    "from astropy.wcs import WCS\n",
    "\n",
    "# Retrieve the image data from the SDSS catalog\n",
    "raw_image_data = SDSS.get_images(matches=xid)\n",
    "\n",
    "# Get the WCS information\n",
    "wcs = WCS(raw_image_data[0][0].header)"
   ],
   "id": "41184138cea134b0",
   "outputs": [
    {
     "name": "stderr",
     "output_type": "stream",
     "text": [
      "WARNING: FITSFixedWarning: RADECSYS= 'ICRS ' / International Celestial Ref. System \n",
      "the RADECSYS keyword is deprecated, use RADESYSa. [astropy.wcs.wcs]\n",
      "WARNING: FITSFixedWarning: 'datfix' made the change 'Set MJD-OBS to 51814.000000 from DATE-OBS'. [astropy.wcs.wcs]\n"
     ]
    }
   ],
   "execution_count": 3
  },
  {
   "metadata": {},
   "cell_type": "markdown",
   "source": "This will provide you with the image data that you can then use for further analysis.",
   "id": "a9fdb713294a4418"
  },
  {
   "metadata": {},
   "cell_type": "markdown",
   "source": [
    "## Measuring Angular Size with Photutils\n",
    "\n",
    "**Photutils** is a Python package used for detecting and measuring astronomical sources in images. It provides tools to measure the angular size of celestial objects."
   ],
   "id": "3b531031be0997c8"
  },
  {
   "metadata": {},
   "cell_type": "markdown",
   "source": "1. **Load the Image**: After downloading the image with Astroquery, load it into Photutils for analysis. The image will typically be in a format that can be loaded with Astropy's fits module:",
   "id": "a7aa9fbb4beb39a2"
  },
  {
   "metadata": {
    "ExecuteTime": {
     "end_time": "2024-07-22T23:32:22.984121Z",
     "start_time": "2024-07-22T23:32:22.982430Z"
    }
   },
   "cell_type": "code",
   "source": [
    "# Load the image. The `raw_image_data` is a list of found objects in the SDSS database. We want the first FITS file in the list, and want the first extension of that FITS file. The extension contains both header and data properties, but we just want the data. \n",
    "image_data = raw_image_data[0][0].data"
   ],
   "id": "14b10180519dbae1",
   "outputs": [],
   "execution_count": 4
  },
  {
   "metadata": {},
   "cell_type": "markdown",
   "source": "2. **Detect Sources**: Use Photutils to detect the galaxy in the image. The detect_sources function can be used to identify the sources in the image.",
   "id": "beb18469ecf06ac8"
  },
  {
   "metadata": {
    "ExecuteTime": {
     "end_time": "2024-07-23T00:24:07.385320Z",
     "start_time": "2024-07-23T00:24:07.335860Z"
    }
   },
   "cell_type": "code",
   "source": [
    "from photutils.segmentation import SourceCatalog\n",
    "from astropy.stats import sigma_clipped_stats\n",
    "from photutils.segmentation import SourceFinder\n",
    "from astropy.nddata import Cutout2D\n",
    "from photutils.morphology import data_properties\n",
    "from photutils.background import Background2D, MedianBackground\n",
    "from astropy.convolution import convolve\n",
    "from photutils.segmentation import make_2dgaussian_kernel\n",
    "\n",
    "# The SDSS image is quite large, so we create a \"cut out\" of the area around the galaxy we care about.\n",
    "cutout = Cutout2D(image_data, coordinates, (1 * u.arcmin, 1 * u.arcmin), wcs=wcs)\n",
    "new_data = cutout.data\n",
    "new_wcs = cutout.wcs\n",
    "\n",
    "# Background estimation\n",
    "bkg_estimator = MedianBackground()\n",
    "bkg = Background2D(new_data, (50, 50), filter_size=(3, 3),\n",
    "                   bkg_estimator=bkg_estimator)\n",
    "new_data = new_data - bkg.background\n",
    "threshold = 1.5 * bkg.background_rms\n",
    "\n",
    "# Convolve the data\n",
    "kernel = make_2dgaussian_kernel(3.0, size=5)\n",
    "convolved_data = convolve(new_data, kernel)\n",
    "\n",
    "# We use a built-in source finding algorithm that will identify the individual objects in the image data. We then segment the image based on these objects.\n",
    "finder = SourceFinder(npixels=10, progress_bar=False)\n",
    "segment_map = finder(convolved_data, threshold)\n",
    "\n",
    "# From the segmentation map, we can create a source catalog that contains the properties of the detected sources.\n",
    "cat = SourceCatalog(new_data, segment_map, wcs=new_wcs, convolved_data=convolved_data)[0]\n",
    "\n",
    "# Turn the catalog into a table for easier viewing.\n",
    "source_table = cat.to_table()\n",
    "source_table.to_pandas()"
   ],
   "id": "715e92bcb4b85dc5",
   "outputs": [
    {
     "data": {
      "text/plain": [
       "   label  xcentroid  ycentroid  sky_centroid.ra  sky_centroid.dec  bbox_xmin  \\\n",
       "0      1  75.771484  75.802379         2.023436         14.839822         44   \n",
       "\n",
       "   bbox_xmax  bbox_ymin  bbox_ymax    area  ...  semiminor_sigma  orientation  \\\n",
       "0        108         51        101  1980.0  ...         5.944968    36.326232   \n",
       "\n",
       "   eccentricity  min_value  max_value  local_background  segment_flux  \\\n",
       "0      0.875251   -0.02594   5.513583               0.0    334.383573   \n",
       "\n",
       "   segment_fluxerr   kron_flux  kron_fluxerr  \n",
       "0              NaN  345.921199           NaN  \n",
       "\n",
       "[1 rows x 21 columns]"
      ],
      "text/html": [
       "<div>\n",
       "<style scoped>\n",
       "    .dataframe tbody tr th:only-of-type {\n",
       "        vertical-align: middle;\n",
       "    }\n",
       "\n",
       "    .dataframe tbody tr th {\n",
       "        vertical-align: top;\n",
       "    }\n",
       "\n",
       "    .dataframe thead th {\n",
       "        text-align: right;\n",
       "    }\n",
       "</style>\n",
       "<table border=\"1\" class=\"dataframe\">\n",
       "  <thead>\n",
       "    <tr style=\"text-align: right;\">\n",
       "      <th></th>\n",
       "      <th>label</th>\n",
       "      <th>xcentroid</th>\n",
       "      <th>ycentroid</th>\n",
       "      <th>sky_centroid.ra</th>\n",
       "      <th>sky_centroid.dec</th>\n",
       "      <th>bbox_xmin</th>\n",
       "      <th>bbox_xmax</th>\n",
       "      <th>bbox_ymin</th>\n",
       "      <th>bbox_ymax</th>\n",
       "      <th>area</th>\n",
       "      <th>...</th>\n",
       "      <th>semiminor_sigma</th>\n",
       "      <th>orientation</th>\n",
       "      <th>eccentricity</th>\n",
       "      <th>min_value</th>\n",
       "      <th>max_value</th>\n",
       "      <th>local_background</th>\n",
       "      <th>segment_flux</th>\n",
       "      <th>segment_fluxerr</th>\n",
       "      <th>kron_flux</th>\n",
       "      <th>kron_fluxerr</th>\n",
       "    </tr>\n",
       "  </thead>\n",
       "  <tbody>\n",
       "    <tr>\n",
       "      <th>0</th>\n",
       "      <td>1</td>\n",
       "      <td>75.771484</td>\n",
       "      <td>75.802379</td>\n",
       "      <td>2.023436</td>\n",
       "      <td>14.839822</td>\n",
       "      <td>44</td>\n",
       "      <td>108</td>\n",
       "      <td>51</td>\n",
       "      <td>101</td>\n",
       "      <td>1980.0</td>\n",
       "      <td>...</td>\n",
       "      <td>5.944968</td>\n",
       "      <td>36.326232</td>\n",
       "      <td>0.875251</td>\n",
       "      <td>-0.02594</td>\n",
       "      <td>5.513583</td>\n",
       "      <td>0.0</td>\n",
       "      <td>334.383573</td>\n",
       "      <td>NaN</td>\n",
       "      <td>345.921199</td>\n",
       "      <td>NaN</td>\n",
       "    </tr>\n",
       "  </tbody>\n",
       "</table>\n",
       "<p>1 rows × 21 columns</p>\n",
       "</div>"
      ]
     },
     "execution_count": 94,
     "metadata": {},
     "output_type": "execute_result"
    }
   ],
   "execution_count": 94
  },
  {
   "metadata": {},
   "cell_type": "markdown",
   "source": "4. **Measure Angular Size**: Measure the angular size of the detected galaxy. Photutils provides several tools to compute properties like the semi-major and semi-minor axes of the galaxy, which are related to its angular size.",
   "id": "6d82121e14685723"
  },
  {
   "metadata": {},
   "cell_type": "code",
   "source": [
    "import matplotlib.pyplot as plt\n",
    "from photutils.aperture import EllipticalAperture\n",
    "from astropy.visualization import simple_norm\n",
    "\n",
    "norm = simple_norm(new_data, 'sqrt')\n",
    "\n",
    "f, ax = plt.subplots(subplot_kw={'projection': wcs})\n",
    "\n",
    "r = 3.0  # approximate isophotal extent\n",
    "a = cat.semimajor_sigma.value * r\n",
    "b = cat.semiminor_sigma.value * r\n",
    "theta = cat.orientation.to(u.rad).value\n",
    "\n",
    "aperture = EllipticalAperture((cat.xcentroid, cat.ycentroid), a, b, theta=theta)\n",
    "aperture.plot(color='r')\n",
    "\n",
    "ax.imshow(new_data, origin='lower', norm=norm)\n",
    "\n",
    "print(f\"The diameter of the galaxy is approximately {2 * a:.2f} arcseconds.\")"
   ],
   "id": "d5c2326445433020",
   "outputs": [],
   "execution_count": null
  },
  {
   "metadata": {},
   "cell_type": "code",
   "source": "",
   "id": "f76bb1d11bbfac0a",
   "outputs": [],
   "execution_count": null
  }
 ],
 "metadata": {
  "kernelspec": {
   "display_name": "Python 3",
   "language": "python",
   "name": "python3"
  },
  "language_info": {
   "codemirror_mode": {
    "name": "ipython",
    "version": 2
   },
   "file_extension": ".py",
   "mimetype": "text/x-python",
   "name": "python",
   "nbconvert_exporter": "python",
   "pygments_lexer": "ipython2",
   "version": "2.7.6"
  }
 },
 "nbformat": 4,
 "nbformat_minor": 5
}
