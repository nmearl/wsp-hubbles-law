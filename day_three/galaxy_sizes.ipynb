{
 "cells": [
  {
   "metadata": {},
   "cell_type": "markdown",
   "source": [
    "# Estimating Distance to Galaxies\n",
    "\n",
    "In this exercise, you will use the SDSS (Sloan Digital Sky Survey) database to retrieve images of selected galaxies and measure their angular sizes. We will again utilize the **Astroquery** Python package for retrieving data from the SDSS. Once the data is plotted, you will interactively measure the angular size and convert that to a distance given our assumptions.\n",
    "\n",
    "## Retrieving SDSS Images with Astroquery\n",
    "\n",
    "**Astroquery** is a Python library designed to simplify the process of querying astronomical databases. It allows you to retrieve data from various astronomical surveys, including SDSS.\n",
    "\n",
    "First, we'll ensure we have the needed libraries installed:"
   ],
   "id": "c52ba44efdeab2c3"
  },
  {
   "metadata": {
    "jupyter": {
     "is_executing": true
    }
   },
   "cell_type": "code",
   "source": [
    "%%capture\n",
    "!pip install astroquery bokeh ipywidgets"
   ],
   "id": "b724b07da444377d",
   "outputs": [],
   "execution_count": null
  },
  {
   "metadata": {},
   "cell_type": "markdown",
   "source": [
    "### Step 1. Import Libraries\n",
    "\n",
    "We'll import the necessary libraries below:"
   ],
   "id": "e2678dc201d42334"
  },
  {
   "metadata": {
    "jupyter": {
     "is_executing": true
    }
   },
   "cell_type": "code",
   "source": [
    "from astroquery.sdss import SDSS\n",
    "from astropy.coordinates import SkyCoord\n",
    "from astropy.visualization import make_lupton_rgb\n",
    "from astropy.wcs import WCS\n",
    "from astropy.nddata import Cutout2D\n",
    "from bokeh.plotting import figure, show, output_notebook\n",
    "import astropy.units as u\n",
    "from bokeh.models import ColumnDataSource, PolyDrawTool, CustomJS\n",
    "import numpy as np\n",
    "import ipywidgets as w\n",
    "from IPython.display import display\n",
    "\n",
    "output_notebook()"
   ],
   "id": "9d4c9d460a37b6fb",
   "outputs": [],
   "execution_count": null
  },
  {
   "metadata": {},
   "cell_type": "markdown",
   "source": [
    "### Step 2. Query the SDSS Database\n",
    "\n",
    "Using Astroquery, you can search for images of the galaxies you are interested in. You will need to know the coordinates of each galaxy (right ascension and declination). After querying the database, you can download the image:"
   ],
   "id": "f8c30c94921dcadd"
  },
  {
   "metadata": {
    "jupyter": {
     "is_executing": true
    }
   },
   "cell_type": "code",
   "source": [
    "# Replace these coordinates with the ones for your galaxies\n",
    "position = SkyCoord(2.02345833, 14.83980556, unit=\"deg\")\n",
    "\n",
    "# Query SDSS for image data in g, r, i bands\n",
    "bands = ['g', 'r', 'i']\n",
    "images = {band: SDSS.get_images(coordinates=position, band=band)[0][0] for band in bands}\n",
    "\n",
    "# Create cutouts around the galaxy's position for each band\n",
    "cutouts = {band: Cutout2D(images[band].data, position=position, size=(200, 200), wcs=WCS(images[band].header)) for band in bands}\n",
    "\n",
    "# Initial RGB image\n",
    "rgb_image = make_lupton_rgb(cutouts['i'].data, cutouts['r'].data, cutouts['g'].data, stretch=0.5, Q=10)"
   ],
   "id": "28fdc3dfd485a3a8",
   "outputs": [],
   "execution_count": null
  },
  {
   "metadata": {
    "jupyter": {
     "is_executing": true
    }
   },
   "cell_type": "code",
   "source": [
    "# Convert the RGB image to a 2D array of RGBA values\n",
    "def rgb_to_rgba(image):\n",
    "    # Create an empty array for RGBA values\n",
    "    rgba_image = np.empty((image.shape[0], image.shape[1]), dtype=np.uint32)\n",
    "    rgba_view = rgba_image.view(dtype=np.uint8).reshape((image.shape[0], image.shape[1], 4))\n",
    "    \n",
    "    # Assign RGB values\n",
    "    rgba_view[:, :, :3] = image\n",
    "    \n",
    "    # Set alpha channel to fully opaque\n",
    "    rgba_view[:, :, 3] = 255\n",
    "    \n",
    "    # Convert to a format Bokeh can handle (1D array of uint32)\n",
    "    # rgba_image = (rgba_image[:, :, 0] << 24) | (rgba_image[:, :, 1] << 16) | (rgba_image[:, :, 2] << 8) | rgba_image[:, :, 3]\n",
    "    # rgba_image = rgba_image.view(np.uint32).reshape((image.shape[0], image.shape[1], 4))\n",
    "    \n",
    "    return rgba_image\n",
    "\n",
    "rgba_image = rgb_to_rgba(rgb_image)"
   ],
   "id": "6588db9bc4b66a90",
   "outputs": [],
   "execution_count": null
  },
  {
   "metadata": {},
   "cell_type": "markdown",
   "source": "This code will retrieve data related to the galaxy's position. Adjust the parameters according to the specific galaxies you are studying and provide you with the image data that you can then use for further analysis.",
   "id": "64b6c7b02c2c5a9d"
  },
  {
   "metadata": {},
   "cell_type": "markdown",
   "source": [
    "### Step 3. Measure Angular Size\n",
    "\n",
    "Measure the angular size of the detected galaxy. Utilize the \"Polygon Draw Tool\" from Bokeh to draw a line across the galaxy and calculate the angular size based on the drawn line. The angular size is calculated based on the pixel scale of the image and the length of the line drawn, and will be displayed in the widget below the image in units of `degrees`."
   ],
   "id": "6d82121e14685723"
  },
  {
   "metadata": {
    "jupyter": {
     "is_executing": true
    }
   },
   "cell_type": "code",
   "source": [
    "# Create a Bokeh figure to display the galaxy image\n",
    "p = figure(title=\"Galaxy Image\")\n",
    "p.image_rgba(image=[rgba_image], x=0, y=0, dw=rgb_image.shape[0], dh=rgb_image.shape[1])\n",
    "\n",
    "# Create a ColumnDataSource for the line\n",
    "line_source = ColumnDataSource(data=dict(xs=[[]], ys=[[]]))\n",
    "\n",
    "# Add a line glyph\n",
    "line_renderer = p.multi_line(xs='xs', ys='ys', source=line_source, line_color='red', line_width=2)\n",
    "\n",
    "# Add the PolyDrawTool and PolyEditTool to the plot\n",
    "poly_draw_tool = PolyDrawTool(renderers=[line_renderer], num_objects=1)\n",
    "p.add_tools(poly_draw_tool)\n",
    "p.toolbar.active_drag = poly_draw_tool\n",
    "\n",
    "# Convert WCS pixel scale matrix to degrees\n",
    "wcs = WCS(images['r'].header)\n",
    "pixel_scale_matrix_x, pixel_scale_matrix_y = wcs.proj_plane_pixel_scales()[0].to(u.deg).value, wcs.proj_plane_pixel_scales()[1].to(u.deg).value\n",
    "\n",
    "# JavaScript code to update the angular size\n",
    "callback_code = \"\"\"\n",
    "const data = source.data;\n",
    "const xs = data['xs'][0];\n",
    "const ys = data['ys'][0];\n",
    "\n",
    "if (xs.length == 2 && ys.length == 2) {\n",
    "    const dx = xs[1] - xs[0];\n",
    "    const dy = ys[1] - ys[0];\n",
    "    const length_pixels = Math.sqrt(dx * dx + dy * dy);\n",
    "    const angular_size = Math.sqrt((dx * scale_x) ** 2 + (dy * scale_y) ** 2);\n",
    "\n",
    "    // Update the ipywidgets FloatText widget\n",
    "    const widget = document.querySelector(\"input[type='number']\");\n",
    "    if (widget) {{\n",
    "        widget.value = angular_size;\n",
    "    }}\n",
    "}\n",
    "\"\"\"\n",
    "\n",
    "# Add a CustomJS callback to update angular size\n",
    "callback = CustomJS(args=dict(source=line_source, \n",
    "                              scale_x=pixel_scale_matrix_x, \n",
    "                              scale_y=pixel_scale_matrix_y), code=callback_code)\n",
    "\n",
    "line_source.js_on_change('data', callback)"
   ],
   "id": "f76bb1d11bbfac0a",
   "outputs": [],
   "execution_count": null
  },
  {
   "metadata": {
    "jupyter": {
     "is_executing": true
    }
   },
   "cell_type": "code",
   "source": [
    "# Display the plot\n",
    "show(p)\n",
    "\n",
    "# Angular size widget\n",
    "angular_size_widget = w.FloatText(disabled=True)\n",
    "angular_size_label = w.Label(value=\"Angular Size (degrees):\")\n",
    "display(w.HBox([angular_size_label, angular_size_widget]))"
   ],
   "id": "b517d3756c0b9790",
   "outputs": [],
   "execution_count": null
  },
  {
   "metadata": {},
   "cell_type": "markdown",
   "source": [
    "### Step 4. Calculate the Distance\n",
    "\n",
    "Using the equation learned previously, calculate the distance to the galaxy:\n",
    "\n",
    "$$ d = \\frac{D}{\\theta} $$"
   ],
   "id": "466c1bf1aae8787b"
  },
  {
   "metadata": {
    "jupyter": {
     "is_executing": true
    }
   },
   "cell_type": "code",
   "source": [
    "# Enter your angular size (in degrees) from above\n",
    "angular_size = 0.007879115340206641\n",
    "angular_size_in_radians = np.radians(angular_size)\n",
    "\n",
    "diameter_of_milky_way = 0.0307  # in Mpc\n",
    "\n",
    "distance = diameter_of_milky_way / angular_size_in_radians\n",
    "\n",
    "print(f\"The estimated distance to the galaxy is approximately {distance:.2f} Mpc.\")"
   ],
   "id": "62f8ca261ab03ed3",
   "outputs": [],
   "execution_count": null
  },
  {
   "metadata": {},
   "cell_type": "markdown",
   "source": [
    "## Using Your Own Galaxies\n",
    "\n",
    "As before, return to the top of this notebook and input the coordinates of each of your galaxies. RE-run the cells and calculate the distances. Be sure to record your results in the [Google Sheet](https://docs.google.com/spreadsheets/d/1mVRovTF8C1UJkQakQG_E9emnpJIRb1rdNx6UPNcm3rs/edit?usp=sharing)."
   ],
   "id": "259fc223b3a52912"
  }
 ],
 "metadata": {
  "kernelspec": {
   "display_name": "Python 3",
   "language": "python",
   "name": "python3"
  },
  "language_info": {
   "codemirror_mode": {
    "name": "ipython",
    "version": 2
   },
   "file_extension": ".py",
   "mimetype": "text/x-python",
   "name": "python",
   "nbconvert_exporter": "python",
   "pygments_lexer": "ipython2",
   "version": "2.7.6"
  }
 },
 "nbformat": 4,
 "nbformat_minor": 5
}
