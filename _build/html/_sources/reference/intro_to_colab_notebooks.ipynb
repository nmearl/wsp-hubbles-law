{
 "cells": [
  {
   "cell_type": "markdown",
   "metadata": {
    "colab_type": "text",
    "id": "nJyW2oBPgoPN"
   },
   "source": [
    "# Introduction to Colab\n",
    "\n",
    "Colab gives you access to an online Python interface through which we'll be exploring the laws of motion this week. Notebooks like this are a great way to iteratively design code and are often a major feature in a scientist or programmer's workflow."
   ]
  },
  {
   "cell_type": "markdown",
   "metadata": {
    "colab_type": "text",
    "id": "6KX8HzjIimGv"
   },
   "source": [
    "---\n",
    "## The basics of using a notebook"
   ]
  },
  {
   "cell_type": "markdown",
   "metadata": {
    "colab_type": "text",
    "id": "n82ovpWKixo4"
   },
   "source": [
    "Unlike a tradition python shell or script, notebooks let you mix text and `code` cells, allowing for a more seamless integration of code and notetaking.\n",
    "\n",
    "The default cell is a `code` cell. You can insert a new `code` or text cell from the top-left. You can identify a code cell because it will show brackets [   ] at the left. Once a cell has been run, it will have a line number, like this: [ 1 ]\n",
    "\n",
    "Try running the `code` cell below (in a notebook, we run cells by pressing enter).\n"
   ]
  },
  {
   "cell_type": "code",
   "execution_count": null,
   "metadata": {
    "colab": {},
    "colab_type": "code",
    "id": "mfMDNkN-iAK7"
   },
   "outputs": [],
   "source": [
    "print(\"Hello World!\")"
   ]
  },
  {
   "cell_type": "markdown",
   "metadata": {
    "colab_type": "text",
    "id": "jYO_1ZwblEtB"
   },
   "source": [
    "This is now line 1 of your code. Code won't always have an output, but if it does, you'll see that the output of the cell is directly below the cell. \n",
    "\n",
    "Notebooks remember variables from cell to cell."
   ]
  },
  {
   "cell_type": "code",
   "execution_count": null,
   "metadata": {
    "colab": {},
    "colab_type": "code",
    "id": "0KnGKk5JkIV4"
   },
   "outputs": [],
   "source": [
    "x = 1"
   ]
  },
  {
   "cell_type": "code",
   "execution_count": null,
   "metadata": {
    "colab": {},
    "colab_type": "code",
    "id": "jOUma6Zjm_fN"
   },
   "outputs": [],
   "source": [
    "print(x)"
   ]
  },
  {
   "cell_type": "markdown",
   "metadata": {
    "colab_type": "text",
    "id": "wbn36AvznZrM"
   },
   "source": [
    "This means we can build up a large chunk of code piece by piece. However, we have to be careful about not overwriting variables and functions.\n",
    "\n",
    "For instance, if we decide to redefine $x=2$, the value of $x$ has been changed, even if we re-run earlier cells in the notebook. \n",
    "\n",
    "<img src=https://img.icons8.com/nolan/2x/laptop.png width=\"30\"> **Exercise**: Try running the cell below, and then re-running the cell above."
   ]
  },
  {
   "cell_type": "code",
   "execution_count": null,
   "metadata": {
    "colab": {},
    "colab_type": "code",
    "id": "oLqtXCKUwnM9"
   },
   "outputs": [],
   "source": []
  },
  {
   "cell_type": "code",
   "execution_count": null,
   "metadata": {
    "colab": {},
    "colab_type": "code",
    "id": "62NS6HEOnOql"
   },
   "outputs": [],
   "source": [
    "x = 2"
   ]
  },
  {
   "cell_type": "markdown",
   "metadata": {
    "colab_type": "text",
    "id": "XHhmxYTlozCp"
   },
   "source": [
    "---\n",
    "## Importing packages\n"
   ]
  },
  {
   "cell_type": "markdown",
   "metadata": {
    "colab_type": "text",
    "id": "OboStOB4o4sP"
   },
   "source": [
    "So far we've been using coding in the notebook using just basic Python.  Going forward, we'll be using two Python packages this week as part of our research project: `numpy` and `matplotlib`. Packages are self-contained pieces of code which add lots of additional functionality to Python. \n",
    "\n",
    "`numpy` is used for working with large arrays of numbers and doing calculations with those arrays. \n",
    "\n",
    "`matplotlib.pyplot` is going to let us plot data as we generate it.\n",
    "\n",
    "In order to use these packages, we need to import them to the notebook. By convention, we import `numpy` as \"np\" and `matplotlib.pyplot` as \"plt\" for short. "
   ]
  },
  {
   "cell_type": "code",
   "execution_count": null,
   "metadata": {
    "colab": {},
    "colab_type": "code",
    "id": "1-y0R9Sloahb"
   },
   "outputs": [],
   "source": [
    "import numpy as np\n",
    "import matplotlib.pyplot as plt"
   ]
  },
  {
   "cell_type": "markdown",
   "metadata": {
    "colab_type": "text",
    "id": "d66DZNWGq3kG"
   },
   "source": [
    "Any functions that come with `numpy` or `matplotlib` will now be accessible through their \"nickname\". For example, if you type `np.` in the cell below (you don't even have to run the cell), Colab will show a dropdown list with all the functions included in `numpy` (there are a LOT!)."
   ]
  },
  {
   "cell_type": "code",
   "execution_count": null,
   "metadata": {
    "colab": {},
    "colab_type": "code",
    "id": "3VZt0dUCqx87"
   },
   "outputs": [],
   "source": []
  },
  {
   "cell_type": "markdown",
   "metadata": {
    "colab_type": "text",
    "id": "nsdKfHi4ru6i"
   },
   "source": [
    "Colab can also help you figure out what a function is supposed to do. Type `np.abs()` into the cell below. You should see a pop-up which describes what this function does, its required input, and what it will output."
   ]
  },
  {
   "cell_type": "code",
   "execution_count": null,
   "metadata": {
    "colab": {},
    "colab_type": "code",
    "id": "gC2vfgzxx8RW"
   },
   "outputs": [],
   "source": []
  },
  {
   "cell_type": "markdown",
   "metadata": {
    "colab_type": "text",
    "id": "7lIoQyMNYjui"
   },
   "source": [
    "---\n",
    "## Creating numpy arrays\n",
    "\n",
    "\n",
    "`numpy` allows us to work with arrays, which are lists of numbers. For example, we can create an array containing the list of numbers $[1,3,5,7,9]$, and assign the array to variable $x$. "
   ]
  },
  {
   "cell_type": "code",
   "execution_count": null,
   "metadata": {
    "colab": {},
    "colab_type": "code",
    "id": "y551Upj0X41p"
   },
   "outputs": [],
   "source": [
    "x = np.array([1,3,5,7,9])"
   ]
  },
  {
   "cell_type": "code",
   "execution_count": null,
   "metadata": {
    "colab": {},
    "colab_type": "code",
    "id": "Fb8X7W9YZYVl"
   },
   "outputs": [],
   "source": [
    "print(x)"
   ]
  },
  {
   "cell_type": "markdown",
   "metadata": {
    "colab_type": "text",
    "id": "bQLkVnywey9v"
   },
   "source": [
    "<img src=https://img.icons8.com/nolan/2x/laptop.png width=\"30\"> **Exercise**: create an array called $y$, containing the list of numbers $[2,4,6,8,10]$, as well as an array called $z$, containing the list of numbers $[1,2,3]$.\n"
   ]
  },
  {
   "cell_type": "code",
   "execution_count": null,
   "metadata": {
    "colab": {},
    "colab_type": "code",
    "id": "LZ-aQ3nqeP6V"
   },
   "outputs": [],
   "source": []
  },
  {
   "cell_type": "markdown",
   "metadata": {
    "colab_type": "text",
    "id": "lTCRVzuadHKD"
   },
   "source": [
    "Note that even though I'm calling an array a list of numbers, a _list_ is its own data type within Python, defined with square brackets and comma-separated values. Lists and arrays are similar, but lists can also contain entries that are not numbers. For example, you can make a list of strings:"
   ]
  },
  {
   "cell_type": "code",
   "execution_count": null,
   "metadata": {
    "colab": {},
    "colab_type": "code",
    "id": "_BWQEiVOdG7A"
   },
   "outputs": [],
   "source": [
    "strlist = [\"this\",\"is\",\"a\",\"list\",\"of\",\"strings\"]"
   ]
  },
  {
   "cell_type": "code",
   "execution_count": null,
   "metadata": {
    "colab": {},
    "colab_type": "code",
    "id": "URBK5HC3dkva"
   },
   "outputs": [],
   "source": [
    "print(strlist)"
   ]
  },
  {
   "cell_type": "markdown",
   "metadata": {
    "colab_type": "text",
    "id": "6FD737d-dno9"
   },
   "source": [
    "We won't be needing things such as lists of strings in the context of our project or DataCamp course. You may find it useful to know that you can cast a list of numbers into a `numpy` array (and you will need to use this information in the DataCamp course)."
   ]
  },
  {
   "cell_type": "code",
   "execution_count": null,
   "metadata": {
    "colab": {},
    "colab_type": "code",
    "id": "-Bns7rPydmJI"
   },
   "outputs": [],
   "source": [
    "## First, we create a Python list containing numbers\n",
    "numlist = [1,2,3,4,5]"
   ]
  },
  {
   "cell_type": "markdown",
   "metadata": {
    "colab_type": "text",
    "id": "kkY7758HijLa"
   },
   "source": [
    "<img src=https://img.icons8.com/nolan/2x/laptop.png width=\"30\"> **Exercise**: Check the data type of `numlist`."
   ]
  },
  {
   "cell_type": "code",
   "execution_count": null,
   "metadata": {
    "colab": {},
    "colab_type": "code",
    "id": "HoN_iOEdii-6"
   },
   "outputs": [],
   "source": [
    "type(numlist)"
   ]
  },
  {
   "cell_type": "code",
   "execution_count": null,
   "metadata": {
    "colab": {},
    "colab_type": "code",
    "id": "WIw66yQKiboT"
   },
   "outputs": [],
   "source": [
    "## Cast numlist into a numpy array, and save that to numlist\n",
    "numlist = np.array(numlist)"
   ]
  },
  {
   "cell_type": "markdown",
   "metadata": {
    "colab_type": "text",
    "id": "crglYkFri03C"
   },
   "source": [
    "<img src=https://img.icons8.com/nolan/2x/laptop.png width=\"30\"> **Exercise**: Now check the data type of `numlist` again. It should be a `numpy` array (it may be called `np.ndarray`, where the \"nd\" just means that the array can be n-dimensional, but we will only concern ourselves with 1-d arrays here)."
   ]
  },
  {
   "cell_type": "code",
   "execution_count": null,
   "metadata": {
    "colab": {},
    "colab_type": "code",
    "id": "MFGcI6SmjHaw"
   },
   "outputs": [],
   "source": []
  },
  {
   "cell_type": "markdown",
   "metadata": {
    "colab_type": "text",
    "id": "r2-dcipqZ9IK"
   },
   "source": [
    "---\n",
    "### 4. Array indexing\n",
    "\n",
    "\n",
    "The elements (numbers) contained in an array are _indexed_. Specifically, in Python syntax, indexing starts at 0. That is, the first number in an array has index 0, the second element has index 1, ... , the last element has index length of array -1. You can read out a specific element of an array using its index as follows:"
   ]
  },
  {
   "cell_type": "code",
   "execution_count": null,
   "metadata": {
    "colab": {},
    "colab_type": "code",
    "id": "RqBtwNWUa_-W"
   },
   "outputs": [],
   "source": [
    "## You can check the length of an array and print it out\n",
    "length = len(x)\n",
    "print(length)"
   ]
  },
  {
   "cell_type": "code",
   "execution_count": null,
   "metadata": {
    "colab": {},
    "colab_type": "code",
    "id": "a6arI4TgawWf"
   },
   "outputs": [],
   "source": [
    "## This prints the first element (index=0) of the above array x\n",
    "print(x[0])"
   ]
  },
  {
   "cell_type": "markdown",
   "metadata": {
    "colab_type": "text",
    "id": "Pn9x7wCJjiFm"
   },
   "source": [
    "<img src=https://img.icons8.com/nolan/2x/laptop.png width=\"30\"> **Exercise**: Print out the last element of array $x$, remembering that the last array has index length-1."
   ]
  },
  {
   "cell_type": "code",
   "execution_count": null,
   "metadata": {
    "colab": {},
    "colab_type": "code",
    "id": "Uh74GT6XbR0-"
   },
   "outputs": [],
   "source": [
    "## Indexing also wraps around in Python, so you can also read out the last\n",
    "## element using index=-1:\n",
    "print(x[-1])"
   ]
  },
  {
   "cell_type": "markdown",
   "metadata": {
    "colab_type": "text",
    "id": "ReEdcBCRb1ac"
   },
   "source": [
    "---\n",
    "### Performing operations on arrays\n",
    "\n",
    "\n",
    "You can perform lots of operations on arrays, such as adding two arrays. This will add up the first element of the first array with the first element of the second array, the second element of the first array with the second element of the second array...etc. and return the resulting array."
   ]
  },
  {
   "cell_type": "markdown",
   "metadata": {
    "colab_type": "text",
    "id": "BEGGgIbJlKgW"
   },
   "source": [
    "<img src=https://img.icons8.com/nolan/2x/laptop.png width=\"30\"> **Exercise**: Try adding the arrays we created above, $x$ and $y$. What is the result you get? \n"
   ]
  },
  {
   "cell_type": "code",
   "execution_count": null,
   "metadata": {
    "colab": {},
    "colab_type": "code",
    "id": "yz33_waYZeNs"
   },
   "outputs": [],
   "source": []
  },
  {
   "cell_type": "markdown",
   "metadata": {
    "colab_type": "text",
    "id": "hn7n3VgGlrhi"
   },
   "source": [
    "<img src=https://img.icons8.com/nolan/2x/laptop.png width=\"30\"> **Exercise**: Now try adding the arrays we created above, $y$ and $z$. What happens, and why? \n"
   ]
  },
  {
   "cell_type": "code",
   "execution_count": null,
   "metadata": {
    "colab": {},
    "colab_type": "code",
    "id": "rJutXGS8l3TS"
   },
   "outputs": [],
   "source": []
  },
  {
   "cell_type": "markdown",
   "metadata": {
    "colab_type": "text",
    "id": "1T_WKa9wliUM"
   },
   "source": [
    "If you add a number to an array, it will add that number to each element of the array, and return the resulting array."
   ]
  },
  {
   "cell_type": "markdown",
   "metadata": {
    "colab_type": "text",
    "id": "sTdwr4Sjl8pj"
   },
   "source": [
    "<img src=https://img.icons8.com/nolan/2x/laptop.png width=\"30\"> **Exercise**: Try adding 1 to $x$. What do you get? \n"
   ]
  },
  {
   "cell_type": "code",
   "execution_count": null,
   "metadata": {
    "colab": {},
    "colab_type": "code",
    "id": "120_DleUlo1u"
   },
   "outputs": [],
   "source": []
  },
  {
   "cell_type": "markdown",
   "metadata": {
    "colab_type": "text",
    "id": "YARYibpzdAGC"
   },
   "source": [
    "---\n",
    "### Performing operations on lists\n",
    "\n",
    "Performing the same operations as above on _lists_ rather than _arrays_ can have very different effects. Be careful!\n",
    "\n",
    "Cast the arrays x and y back into lists, and add them. What happens?"
   ]
  },
  {
   "cell_type": "code",
   "execution_count": null,
   "metadata": {
    "colab": {},
    "colab_type": "code",
    "id": "jjTqElYXdYFm"
   },
   "outputs": [],
   "source": [
    "list(x)+list(y)"
   ]
  },
  {
   "cell_type": "markdown",
   "metadata": {
    "colab_type": "text",
    "id": "VjSvSR3rdp5s"
   },
   "source": [
    "<img src=https://img.icons8.com/nolan/2x/laptop.png width=\"30\"> **Exercise**: When you tried to add two arrays with different lengths, you got an error. What happens when you add two lists with different lengths? Try it: cast $y$ and $z$ into lists and add them.\n"
   ]
  },
  {
   "cell_type": "code",
   "execution_count": null,
   "metadata": {
    "colab": {},
    "colab_type": "code",
    "id": "8xfhmAfMd5J_"
   },
   "outputs": [],
   "source": []
  },
  {
   "cell_type": "markdown",
   "metadata": {
    "colab_type": "text",
    "id": "j9CjlZoMeAww"
   },
   "source": [
    "When lists are added, they get concatenated. This means that the second list is appended to the end of the first list, and the resulting list is returned. When you try to add a number, rather than a list, to a list, this happens: "
   ]
  },
  {
   "cell_type": "code",
   "execution_count": null,
   "metadata": {
    "colab": {},
    "colab_type": "code",
    "id": "lI9JSfaQc_GF"
   },
   "outputs": [],
   "source": [
    "list(x)+1"
   ]
  },
  {
   "cell_type": "markdown",
   "metadata": {
    "colab_type": "text",
    "id": "qVhr8SDveVoj"
   },
   "source": [
    "Lists can be useful because it is easy to change their length, whereas you cannot easily change the length of an array. You can append another number to a list using the command `append`."
   ]
  },
  {
   "cell_type": "code",
   "execution_count": null,
   "metadata": {
    "colab": {},
    "colab_type": "code",
    "id": "mZPq26G-eT4A"
   },
   "outputs": [],
   "source": [
    "alist = [] # First, create an empty list using square brackets\n",
    "alist.append(1) # Now, append the number 1 to the list"
   ]
  },
  {
   "cell_type": "markdown",
   "metadata": {
    "colab_type": "text",
    "id": "PjJBFBBSe1rU"
   },
   "source": [
    "<img src=https://img.icons8.com/nolan/2x/laptop.png width=\"30\"> **Exercise**: Print out the result of the above operation. What do you get? The differences between the behavior of arrays vs lists may become important when you start your project.\n"
   ]
  },
  {
   "cell_type": "code",
   "execution_count": null,
   "metadata": {
    "colab": {},
    "colab_type": "code",
    "id": "pPaTOuy2fBDU"
   },
   "outputs": [],
   "source": []
  },
  {
   "cell_type": "markdown",
   "metadata": {
    "colab_type": "text",
    "id": "SWsxq9ncmI4p"
   },
   "source": [
    "---\n",
    "## Other kinds of arrays\n",
    "\n",
    "\n",
    "Here are some more ways of creating arrays that may be useful for your project later on in the week. You can create an array with specified length, with all entries=0."
   ]
  },
  {
   "cell_type": "code",
   "execution_count": null,
   "metadata": {
    "colab": {},
    "colab_type": "code",
    "id": "TX1TlGH6m07s"
   },
   "outputs": [],
   "source": [
    "## Create a length 10 array of zeros \n",
    "np.zeros(10)"
   ]
  },
  {
   "cell_type": "code",
   "execution_count": null,
   "metadata": {
    "colab": {},
    "colab_type": "code",
    "id": "GvvZNuFacaHV"
   },
   "outputs": [],
   "source": [
    "## You can also create a length 10 array of ones\n",
    "np.ones(10)"
   ]
  },
  {
   "cell_type": "markdown",
   "metadata": {
    "colab_type": "text",
    "id": "0jRXrIbdc076"
   },
   "source": [
    "`np.linspace(a,b,n)` creates a linearly spaced array from $a$ (inclusive) to $b$ (inclusive), with length $n$:"
   ]
  },
  {
   "cell_type": "code",
   "execution_count": null,
   "metadata": {
    "colab": {},
    "colab_type": "code",
    "id": "Ov1kSBlkctSe"
   },
   "outputs": [],
   "source": [
    "## This creates an array of length 10, starting at 0.1 and ending at 1 \n",
    "np.linspace(0.1,1,10)"
   ]
  },
  {
   "cell_type": "markdown",
   "metadata": {
    "colab_type": "text",
    "id": "bt3-FjmSdXGu"
   },
   "source": [
    "`np.arange(a,b,x)` creates a linearly spaced array from $a$ (inclusive) to $b$ (non-inclusive), with spacing $x$:"
   ]
  },
  {
   "cell_type": "code",
   "execution_count": null,
   "metadata": {
    "colab": {},
    "colab_type": "code",
    "id": "Pj7TRBLydDma"
   },
   "outputs": [],
   "source": [
    "## This creates an array starting at 0.1 and ending at 1, \n",
    "## in steps of 0.1 between elements\n",
    "np.arange(0.1,1.1,0.1)"
   ]
  },
  {
   "cell_type": "markdown",
   "metadata": {
    "colab_type": "text",
    "id": "g3BAFWMgdxFy"
   },
   "source": [
    "<img src=https://img.icons8.com/nolan/2x/laptop.png width=\"30\"> **Exercise**: Make an array from $0$ to $10$, in steps of $0.5$, first using `np.arange` and then using `np.linspace`.\n"
   ]
  }
 ],
 "metadata": {
  "colab": {
   "name": "intro_to_colab_notebooks.ipynb",
   "provenance": [
    {
     "file_id": "1wFwooc7Qc4IVB3GRu2S2zjhlJpFapmxL",
     "timestamp": 1590678410531
    }
   ]
  },
  "kernelspec": {
   "display_name": "Python 3.9.13 ('base')",
   "language": "python",
   "name": "python3"
  },
  "language_info": {
   "codemirror_mode": {
    "name": "ipython",
    "version": 3
   },
   "file_extension": ".py",
   "mimetype": "text/x-python",
   "name": "python",
   "nbconvert_exporter": "python",
   "pygments_lexer": "ipython3",
   "version": "3.9.13"
  },
  "vscode": {
   "interpreter": {
    "hash": "6bf538831e27a1ad426c58002316afae17729638cf585908cc36d09eec11d3b9"
   }
  }
 },
 "nbformat": 4,
 "nbformat_minor": 0
}
